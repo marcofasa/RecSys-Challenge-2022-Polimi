{
 "cells": [
  {
   "cell_type": "code",
   "execution_count": 16,
   "outputs": [
    {
     "name": "stdout",
     "output_type": "stream",
     "text": [
      "Unique UserID in the URM are 41629\n",
      "Unique UserID in the URM and ICM are 41629\n",
      "5826506\n",
      "Warning: 307 (0.74 %) of 41629 users have no sampled items\n"
     ]
    }
   ],
   "source": [
    "import scipy.sparse as sps\n",
    "from Recommenders.Hybrid.ItemUserHybridKNNRecommender import ItemUserHybridKNNRecommender\n",
    "from Utils.Evaluator import EvaluatorHoldout\n",
    "import Utils.Reader as Reader\n",
    "from Data_manager.split_functions.split_train_validation_random_holdout import\\\n",
    "    split_train_in_two_percentage_global_sample\n",
    "from Recommenders.KNN.ItemKNNCFRecommender import ItemKNNCFRecommender\n",
    "from Recommenders.MatrixFactorization.IALSRecommender import IALSRecommender\n",
    "from Utils.Evaluator import EvaluatorHoldout\n",
    "import Utils.Reader as Reader\n",
    "\n",
    "#URM_all=Reader.load_URM(values_to_replace={0.01:0.02})\n",
    "URM_all=Reader.read_train_csr(values_to_replace={0:0.03})\n",
    "URM_train, URM_test = split_train_in_two_percentage_global_sample(URM_all ,train_percentage=0.80)\n",
    "\n",
    "\n",
    "from Recommenders.GraphBased.P3alphaRecommender import P3alphaRecommender\n",
    "from Recommenders.SLIM.Cython.SLIM_BPR_Cython import SLIM_BPR_Cython\n",
    "from Recommenders.GraphBased.RP3betaRecommender import RP3betaRecommender\n",
    "from Recommenders.GeneralizedMergedHybridRecommender import GeneralizedMergedHybridRecommender\n",
    "import numpy as np\n",
    "import os\n",
    "import itertools\n",
    "best_result=0\n",
    "best={}\n",
    "from tqdm.notebook import tqdm\n",
    "import numpy\n",
    "parent_dir =  \"../\"\n",
    "write_path = os.path.join(parent_dir, \"Testing_Results/grid.csv\")"
   ],
   "metadata": {
    "collapsed": false,
    "pycharm": {
     "name": "#%%\n"
    }
   }
  },
  {
   "cell_type": "code",
   "execution_count": null,
   "outputs": [],
   "source": [
    "alphaL=numpy.arange(0.3, 0.5, 0.01)\n",
    "betaL=numpy.arange(0.00, 0.2, 0.01)\n",
    "gammaL=numpy.arange(0.00, 0.2, 0.05)\n",
    "blockfact=numpy.arange(0.01, 0.05, 0.01)\n",
    "rp3=RP3betaRecommender(URM_train)\n",
    "rp3.fit()\n",
    "\n",
    "ials=IALSRecommender(URM_train)\n",
    "ials.fit()\n",
    "\n",
    "itemKNN=ItemKNNCFRecommender(URM_train)\n",
    "itemKNN.fit()\n",
    "slim =SLIM_BPR_Cython(URM_train)\n",
    "slim.fit()\n",
    "p3=P3alphaRecommender(URM_train)\n",
    "p3.fit()\n",
    "with open(write_path, \"w+\") as d:\n",
    "    for group_id in tqdm(range(17, 23)):\n",
    "        for x in itertools.product(alphaL,betaL):\n",
    "            alpha = x[0]\n",
    "            beta = x[1]\n",
    "            #gamma = x[2]\n",
    "            blockfactor = 0.04\n",
    "            profile_length = np.ediff1d(sps.csr_matrix(URM_all).indptr)\n",
    "            sorted_users = np.argsort(profile_length)\n",
    "            block_size = int(len(profile_length) * blockfactor)\n",
    "            start_pos = group_id * block_size\n",
    "            end_pos = min((group_id + 1) * block_size, len(profile_length))\n",
    "\n",
    "            users_in_group = sorted_users[start_pos:end_pos]\n",
    "\n",
    "            users_in_group_p_len = profile_length[users_in_group]\n",
    "            users_not_in_group_flag = np.isin(sorted_users, users_in_group, invert=True)\n",
    "            users_not_in_group = sorted_users[users_not_in_group_flag]\n",
    "\n",
    "            w1 = len(users_in_group) / len(profile_length)\n",
    "            w2 = len(users_not_in_group) / len(profile_length)\n",
    "            from Utils.Evaluator import EvaluatorHoldout\n",
    "            from Recommenders.GeneralizedMergedHybridRecommender import GeneralizedMergedHybridRecommender\n",
    "            import numpy as np\n",
    "\n",
    "            '''\n",
    "            higher_recommender = GeneralizedMergedHybridRecommender(\n",
    "                URM_train=URM_train,\n",
    "                recommenders=[\n",
    "                    itemKNN\n",
    "\n",
    "                ],\n",
    "                verbose=False\n",
    "            )\n",
    "            higher_recommender.fit(\n",
    "                alphas=[\n",
    "                    alpha,beta,\n",
    "                    1 - alpha - beta\n",
    "                ]\n",
    "            )\n",
    "\n",
    "            '''\n",
    "            lower_recommender = GeneralizedMergedHybridRecommender(\n",
    "                URM_train=URM_train,\n",
    "                recommenders=[\n",
    "                    ials,p3,\n",
    "                     rp3\n",
    "\n",
    "                ],\n",
    "                verbose=False\n",
    "            )\n",
    "            lower_recommender.fit(\n",
    "                alphas=[\n",
    "                    alpha,beta,\n",
    "                    1 - alpha-beta\n",
    "                ]\n",
    "            )\n",
    "            cutoff = 10\n",
    "            evaluator_test = EvaluatorHoldout(URM_test, cutoff_list=[cutoff], ignore_users=users_not_in_group)\n",
    "            result_df, _ = evaluator_test.evaluateRecommender(itemKNN)\n",
    "\n",
    "            evaluator_test2 = EvaluatorHoldout(URM_test, cutoff_list=[cutoff], ignore_users=users_in_group)\n",
    "            result_df2, _ = evaluator_test2.evaluateRecommender(lower_recommender)\n",
    "            r2 = result_df2[\"MAP\"][10]\n",
    "            r = result_df[\"MAP\"][10]\n",
    "\n",
    "            result = r * w1 + r2 * w2\n",
    "            if result > best_result:\n",
    "                print(\"New Result\")\n",
    "                best_result = result\n",
    "                best = {\n",
    "                    \"alpha:\": str(alpha),\n",
    "                    \"beta\": str(beta),\n",
    "                    \"groupid:\": str(group_id),\n",
    "                    \"block_factor\": str(blockfactor),\n",
    "                    \"MAP\": str(best_result),\n",
    "                    \"res1:\": str(r),\n",
    "                    \"res2:\": str(r2)\n",
    "                }\n",
    "                d.write(str(best))\n",
    "                d.write('\\n')"
   ],
   "metadata": {
    "collapsed": false,
    "pycharm": {
     "name": "#%%\n",
     "is_executing": true
    }
   }
  },
  {
   "cell_type": "code",
   "execution_count": 40,
   "outputs": [
    {
     "data": {
      "text/plain": "{'alpha:': '0.4',\n 'beta': '0.1',\n 'gamma:': '0.01',\n 'groupid:': '21',\n 'block_factor': '0.04',\n 'MAP': '0.02865889284113962',\n 'res1:': '0.05653882453882443',\n 'res2:': '0.02749734529142875'}"
     },
     "execution_count": 40,
     "metadata": {},
     "output_type": "execute_result"
    }
   ],
   "source": [
    "best"
   ],
   "metadata": {
    "collapsed": false,
    "pycharm": {
     "name": "#%%\n"
    }
   }
  },
  {
   "cell_type": "code",
   "execution_count": 42,
   "outputs": [
    {
     "data": {
      "text/plain": "0.028391045514270147"
     },
     "execution_count": 42,
     "metadata": {},
     "output_type": "execute_result"
    }
   ],
   "source": [
    "result"
   ],
   "metadata": {
    "collapsed": false,
    "pycharm": {
     "name": "#%%\n"
    }
   }
  },
  {
   "cell_type": "code",
   "execution_count": null,
   "outputs": [],
   "source": [],
   "metadata": {
    "collapsed": false,
    "pycharm": {
     "name": "#%%\n"
    }
   }
  }
 ],
 "metadata": {
  "kernelspec": {
   "display_name": "Python 3",
   "language": "python",
   "name": "python3"
  },
  "language_info": {
   "codemirror_mode": {
    "name": "ipython",
    "version": 2
   },
   "file_extension": ".py",
   "mimetype": "text/x-python",
   "name": "python",
   "nbconvert_exporter": "python",
   "pygments_lexer": "ipython2",
   "version": "2.7.6"
  }
 },
 "nbformat": 4,
 "nbformat_minor": 0
}