{
 "cells": [
  {
   "cell_type": "code",
   "execution_count": 15,
   "outputs": [
    {
     "name": "stdout",
     "output_type": "stream",
     "text": [
      "Unique UserID in the URM are 41629\n",
      "Unique UserID in the URM and ICM are 41629\n",
      "5826506\n",
      "Warning: 321 (0.77 %) of 41629 users have no sampled items\n"
     ]
    }
   ],
   "source": [
    "import scipy.sparse as sps\n",
    "from Recommenders.Hybrid.ItemUserHybridKNNRecommender import ItemUserHybridKNNRecommender\n",
    "from Utils.Evaluator import EvaluatorHoldout\n",
    "import Utils.Reader as Reader\n",
    "from Data_manager.split_functions.split_train_validation_random_holdout import\\\n",
    "    split_train_in_two_percentage_global_sample\n",
    "from Recommenders.KNN.ItemKNNCFRecommender import ItemKNNCFRecommender\n",
    "from Recommenders.MatrixFactorization.IALSRecommender import IALSRecommender\n",
    "from Utils.Evaluator import EvaluatorHoldout\n",
    "import Utils.Reader as Reader\n",
    "\n",
    "#URM_all=Reader.load_URM(values_to_replace={0.01:0.02})\n",
    "URM_all=Reader.read_train_csr(values_to_replace={0:0.03})\n",
    "URM_train, URM_test = split_train_in_two_percentage_global_sample(URM_all ,train_percentage=0.80)\n",
    "\n",
    "\n",
    "from Recommenders.GraphBased.P3alphaRecommender import P3alphaRecommender\n",
    "from Recommenders.SLIM.Cython.SLIM_BPR_Cython import SLIM_BPR_Cython\n",
    "from Recommenders.GraphBased.RP3betaRecommender import RP3betaRecommender\n",
    "from Recommenders.GeneralizedMergedHybridRecommender import GeneralizedMergedHybridRecommender\n",
    "import numpy as np"
   ],
   "metadata": {
    "collapsed": false,
    "pycharm": {
     "name": "#%%\n"
    }
   }
  },
  {
   "cell_type": "code",
   "execution_count": null,
   "outputs": [],
   "source": [
    "import os\n",
    "import itertools\n",
    "best_result=0\n",
    "best={}\n",
    "from tqdm.notebook import tqdm\n",
    "import numpy\n",
    "alphaL=numpy.arange(0.10, 0.5, 0.1)\n",
    "betaL=numpy.arange(0.20, 0.5, 0.1)\n",
    "gammaL=numpy.arange(0.50, 0.8, 0.05)\n",
    "blockfact=numpy.arange(0.01, 0.05, 0.01)\n",
    "\n",
    "rp3=RP3betaRecommender(URM_train)\n",
    "rp3.fit()\n",
    "\n",
    "ials=IALSRecommender(URM_train)\n",
    "ials.fit()\n",
    "\n",
    "itemKNN=ItemKNNCFRecommender(URM_train)\n",
    "itemKNN.fit()\n",
    "slim =SLIM_BPR_Cython(URM_train)\n",
    "slim.fit()\n",
    "p3=P3alphaRecommender(URM_train)\n",
    "p3.fit()\n",
    "for group_id in tqdm(range(20, 22)):\n",
    "    for x in itertools.product(alphaL,betaL,gammaL,blockfact):\n",
    "        alpha=x[0]\n",
    "        beta=x[1]\n",
    "        gamma=x[2]\n",
    "        blockfactor=x[3]\n",
    "        profile_length = np.ediff1d(sps.csr_matrix(URM_all).indptr)\n",
    "        sorted_users = np.argsort(profile_length)\n",
    "        block_size = int(len(profile_length)*blockfactor)\n",
    "        start_pos = group_id*block_size\n",
    "        end_pos = min((group_id+1)*block_size, len(profile_length))\n",
    "\n",
    "        users_in_group = sorted_users[start_pos:end_pos]\n",
    "\n",
    "        users_in_group_p_len = profile_length[users_in_group]\n",
    "        users_not_in_group_flag = np.isin(sorted_users, users_in_group, invert=True)\n",
    "        users_not_in_group = sorted_users[users_not_in_group_flag]\n",
    "\n",
    "        w1=len(users_in_group)/len(profile_length)\n",
    "        w2=len(users_not_in_group)/len(profile_length)\n",
    "        from Utils.Evaluator import EvaluatorHoldout\n",
    "        from Recommenders.GeneralizedMergedHybridRecommender import GeneralizedMergedHybridRecommender\n",
    "        import numpy as np\n",
    "\n",
    "\n",
    "\n",
    "        higher_recommender = GeneralizedMergedHybridRecommender(\n",
    "            URM_train=URM_train,\n",
    "            recommenders=[\n",
    "                rp3,\n",
    "                ials,\n",
    "                itemKNN\n",
    "\n",
    "            ],\n",
    "            verbose=False\n",
    "        )\n",
    "        higher_recommender.fit(\n",
    "            alphas=[\n",
    "                alpha,beta,\n",
    "                1 - alpha - beta\n",
    "            ]\n",
    "        )\n",
    "\n",
    "\n",
    "\n",
    "        lower_recommender = GeneralizedMergedHybridRecommender(\n",
    "            URM_train=URM_train,\n",
    "            recommenders=[\n",
    "                p3,\n",
    "                slim\n",
    "\n",
    "            ],\n",
    "            verbose=False\n",
    "        )\n",
    "        lower_recommender.fit(\n",
    "            alphas=[\n",
    "                gamma,\n",
    "                1-gamma\n",
    "            ]\n",
    "        )\n",
    "        cutoff=10\n",
    "        evaluator_test = EvaluatorHoldout(URM_test, cutoff_list=[cutoff], ignore_users=users_not_in_group)\n",
    "        result_df, _ = evaluator_test.evaluateRecommender(higher_recommender)\n",
    "\n",
    "        evaluator_test2 = EvaluatorHoldout(URM_test, cutoff_list=[cutoff], ignore_users=users_in_group)\n",
    "        result_df2, _ = evaluator_test2.evaluateRecommender(lower_recommender)\n",
    "        r2=result_df2[\"MAP\"][10]\n",
    "        r=result_df[\"MAP\"][10]\n",
    "        result=r*w1+r2*w2\n",
    "        if result>best_result:\n",
    "            best_result=result\n",
    "            best={\n",
    "                \"alpha:\": str(alpha),\n",
    "                \"beta\": str(beta),\n",
    "                \"gamma:\": str(gamma),\n",
    "                \"groupid:\":str(group_id),\n",
    "                \"block_factor\":str(blockfactor),\n",
    "                \"MAP\":str(best_result)\n",
    "            }\n",
    "            parent_dir =  \"../\"\n",
    "            write_path = os.path.join(parent_dir, \"Testing_Results/grid.csv\")\n",
    "            with open(write_path, \"w+\") as d:\n",
    "                d.write(str(best))\n",
    "                d.write('\\n')\n"
   ],
   "metadata": {
    "collapsed": false,
    "pycharm": {
     "name": "#%%\n",
     "is_executing": true
    }
   }
  },
  {
   "cell_type": "code",
   "execution_count": 21,
   "outputs": [
    {
     "data": {
      "text/plain": "  0%|          | 0/5 [00:00<?, ?it/s]",
      "application/vnd.jupyter.widget-view+json": {
       "version_major": 2,
       "version_minor": 0,
       "model_id": "3502d1242bae434d86fb49c9d10d5b33"
      }
     },
     "metadata": {},
     "output_type": "display_data"
    },
    {
     "name": "stdout",
     "output_type": "stream",
     "text": [
      "EvaluatorHoldout: Ignoring 321 ( 0.8%) Users that have less than 1 test interactions\n",
      "EvaluatorHoldout: Ignoring 40381 Users\n",
      "EvaluatorHoldout: Processed 1248 (100.0%) in 3.88 sec. Users per second: 322\n",
      "EvaluatorHoldout: Ignoring 321 ( 0.8%) Users that have less than 1 test interactions\n",
      "EvaluatorHoldout: Ignoring 1248 Users\n"
     ]
    },
    {
     "name": "stderr",
     "output_type": "stream",
     "text": [
      "/Users/fasa/PycharmProjects/RecSys-Challenge-2022-Polimi/Utils/metrics.py:276: RuntimeWarning: overflow encountered in power\n",
      "  return np.sum(np.divide(np.power(2, scores) - 1, np.log2(np.arange(scores.shape[0], dtype=np.float64) + 2)),\n",
      "/Users/fasa/PycharmProjects/RecSys-Challenge-2022-Polimi/Utils/metrics.py:270: RuntimeWarning: invalid value encountered in double_scalars\n",
      "  ndcg_ = rank_dcg / ideal_dcg\n"
     ]
    },
    {
     "name": "stdout",
     "output_type": "stream",
     "text": [
      "EvaluatorHoldout: Processed 40060 (100.0%) in 42.37 sec. Users per second: 946\n",
      "EvaluatorHoldout: Ignoring 321 ( 0.8%) Users that have less than 1 test interactions\n",
      "EvaluatorHoldout: Ignoring 39964 Users\n",
      "EvaluatorHoldout: Processed 1665 (100.0%) in 4.26 sec. Users per second: 391\n",
      "EvaluatorHoldout: Ignoring 321 ( 0.8%) Users that have less than 1 test interactions\n",
      "EvaluatorHoldout: Ignoring 1665 Users\n"
     ]
    },
    {
     "name": "stderr",
     "output_type": "stream",
     "text": [
      "/Users/fasa/PycharmProjects/RecSys-Challenge-2022-Polimi/Utils/metrics.py:276: RuntimeWarning: overflow encountered in power\n",
      "  return np.sum(np.divide(np.power(2, scores) - 1, np.log2(np.arange(scores.shape[0], dtype=np.float64) + 2)),\n",
      "/Users/fasa/PycharmProjects/RecSys-Challenge-2022-Polimi/Utils/metrics.py:270: RuntimeWarning: invalid value encountered in double_scalars\n",
      "  ndcg_ = rank_dcg / ideal_dcg\n"
     ]
    },
    {
     "name": "stdout",
     "output_type": "stream",
     "text": [
      "EvaluatorHoldout: Processed 39643 (100.0%) in 40.38 sec. Users per second: 982\n",
      "EvaluatorHoldout: Ignoring 321 ( 0.8%) Users that have less than 1 test interactions\n",
      "EvaluatorHoldout: Ignoring 39548 Users\n"
     ]
    },
    {
     "name": "stderr",
     "output_type": "stream",
     "text": [
      "/Users/fasa/PycharmProjects/RecSys-Challenge-2022-Polimi/Utils/metrics.py:276: RuntimeWarning: overflow encountered in power\n",
      "  return np.sum(np.divide(np.power(2, scores) - 1, np.log2(np.arange(scores.shape[0], dtype=np.float64) + 2)),\n",
      "/Users/fasa/PycharmProjects/RecSys-Challenge-2022-Polimi/Utils/metrics.py:270: RuntimeWarning: invalid value encountered in double_scalars\n",
      "  ndcg_ = rank_dcg / ideal_dcg\n"
     ]
    },
    {
     "name": "stdout",
     "output_type": "stream",
     "text": [
      "EvaluatorHoldout: Processed 2081 (100.0%) in 4.55 sec. Users per second: 457\n",
      "EvaluatorHoldout: Ignoring 321 ( 0.8%) Users that have less than 1 test interactions\n",
      "EvaluatorHoldout: Ignoring 2081 Users\n"
     ]
    },
    {
     "name": "stderr",
     "output_type": "stream",
     "text": [
      "/Users/fasa/PycharmProjects/RecSys-Challenge-2022-Polimi/Utils/metrics.py:276: RuntimeWarning: overflow encountered in power\n",
      "  return np.sum(np.divide(np.power(2, scores) - 1, np.log2(np.arange(scores.shape[0], dtype=np.float64) + 2)),\n",
      "/Users/fasa/PycharmProjects/RecSys-Challenge-2022-Polimi/Utils/metrics.py:270: RuntimeWarning: invalid value encountered in double_scalars\n",
      "  ndcg_ = rank_dcg / ideal_dcg\n"
     ]
    },
    {
     "name": "stdout",
     "output_type": "stream",
     "text": [
      "EvaluatorHoldout: Processed 39227 (100.0%) in 40.20 sec. Users per second: 976\n",
      "EvaluatorHoldout: Ignoring 321 ( 0.8%) Users that have less than 1 test interactions\n",
      "EvaluatorHoldout: Ignoring 40381 Users\n",
      "EvaluatorHoldout: Processed 1248 (100.0%) in 2.91 sec. Users per second: 428\n",
      "EvaluatorHoldout: Ignoring 321 ( 0.8%) Users that have less than 1 test interactions\n",
      "EvaluatorHoldout: Ignoring 1248 Users\n"
     ]
    },
    {
     "name": "stderr",
     "output_type": "stream",
     "text": [
      "/Users/fasa/PycharmProjects/RecSys-Challenge-2022-Polimi/Utils/metrics.py:276: RuntimeWarning: overflow encountered in power\n",
      "  return np.sum(np.divide(np.power(2, scores) - 1, np.log2(np.arange(scores.shape[0], dtype=np.float64) + 2)),\n",
      "/Users/fasa/PycharmProjects/RecSys-Challenge-2022-Polimi/Utils/metrics.py:270: RuntimeWarning: invalid value encountered in double_scalars\n",
      "  ndcg_ = rank_dcg / ideal_dcg\n"
     ]
    },
    {
     "name": "stdout",
     "output_type": "stream",
     "text": [
      "EvaluatorHoldout: Processed 40060 (100.0%) in 42.18 sec. Users per second: 950\n",
      "EvaluatorHoldout: Ignoring 321 ( 0.8%) Users that have less than 1 test interactions\n",
      "EvaluatorHoldout: Ignoring 39964 Users\n",
      "EvaluatorHoldout: Processed 1665 (100.0%) in 3.57 sec. Users per second: 466\n",
      "EvaluatorHoldout: Ignoring 321 ( 0.8%) Users that have less than 1 test interactions\n",
      "EvaluatorHoldout: Ignoring 1665 Users\n"
     ]
    },
    {
     "name": "stderr",
     "output_type": "stream",
     "text": [
      "/Users/fasa/PycharmProjects/RecSys-Challenge-2022-Polimi/Utils/metrics.py:276: RuntimeWarning: overflow encountered in power\n",
      "  return np.sum(np.divide(np.power(2, scores) - 1, np.log2(np.arange(scores.shape[0], dtype=np.float64) + 2)),\n",
      "/Users/fasa/PycharmProjects/RecSys-Challenge-2022-Polimi/Utils/metrics.py:270: RuntimeWarning: invalid value encountered in double_scalars\n",
      "  ndcg_ = rank_dcg / ideal_dcg\n"
     ]
    },
    {
     "name": "stdout",
     "output_type": "stream",
     "text": [
      "EvaluatorHoldout: Processed 39643 (100.0%) in 40.32 sec. Users per second: 983\n",
      "EvaluatorHoldout: Ignoring 321 ( 0.8%) Users that have less than 1 test interactions\n",
      "EvaluatorHoldout: Ignoring 39548 Users\n"
     ]
    },
    {
     "name": "stderr",
     "output_type": "stream",
     "text": [
      "/Users/fasa/PycharmProjects/RecSys-Challenge-2022-Polimi/Utils/metrics.py:276: RuntimeWarning: overflow encountered in power\n",
      "  return np.sum(np.divide(np.power(2, scores) - 1, np.log2(np.arange(scores.shape[0], dtype=np.float64) + 2)),\n",
      "/Users/fasa/PycharmProjects/RecSys-Challenge-2022-Polimi/Utils/metrics.py:270: RuntimeWarning: invalid value encountered in double_scalars\n",
      "  ndcg_ = rank_dcg / ideal_dcg\n"
     ]
    },
    {
     "name": "stdout",
     "output_type": "stream",
     "text": [
      "EvaluatorHoldout: Processed 2081 (100.0%) in 4.57 sec. Users per second: 455\n",
      "EvaluatorHoldout: Ignoring 321 ( 0.8%) Users that have less than 1 test interactions\n",
      "EvaluatorHoldout: Ignoring 2081 Users\n"
     ]
    },
    {
     "name": "stderr",
     "output_type": "stream",
     "text": [
      "/Users/fasa/PycharmProjects/RecSys-Challenge-2022-Polimi/Utils/metrics.py:276: RuntimeWarning: overflow encountered in power\n",
      "  return np.sum(np.divide(np.power(2, scores) - 1, np.log2(np.arange(scores.shape[0], dtype=np.float64) + 2)),\n",
      "/Users/fasa/PycharmProjects/RecSys-Challenge-2022-Polimi/Utils/metrics.py:270: RuntimeWarning: invalid value encountered in double_scalars\n",
      "  ndcg_ = rank_dcg / ideal_dcg\n"
     ]
    },
    {
     "name": "stdout",
     "output_type": "stream",
     "text": [
      "EvaluatorHoldout: Processed 39227 (100.0%) in 40.95 sec. Users per second: 958\n",
      "EvaluatorHoldout: Ignoring 321 ( 0.8%) Users that have less than 1 test interactions\n",
      "EvaluatorHoldout: Ignoring 40381 Users\n",
      "EvaluatorHoldout: Processed 1248 (100.0%) in 3.05 sec. Users per second: 410\n",
      "EvaluatorHoldout: Ignoring 321 ( 0.8%) Users that have less than 1 test interactions\n",
      "EvaluatorHoldout: Ignoring 1248 Users\n"
     ]
    },
    {
     "name": "stderr",
     "output_type": "stream",
     "text": [
      "/Users/fasa/PycharmProjects/RecSys-Challenge-2022-Polimi/Utils/metrics.py:276: RuntimeWarning: overflow encountered in power\n",
      "  return np.sum(np.divide(np.power(2, scores) - 1, np.log2(np.arange(scores.shape[0], dtype=np.float64) + 2)),\n",
      "/Users/fasa/PycharmProjects/RecSys-Challenge-2022-Polimi/Utils/metrics.py:270: RuntimeWarning: invalid value encountered in double_scalars\n",
      "  ndcg_ = rank_dcg / ideal_dcg\n"
     ]
    },
    {
     "name": "stdout",
     "output_type": "stream",
     "text": [
      "EvaluatorHoldout: Processed 40060 (100.0%) in 40.55 sec. Users per second: 988\n",
      "EvaluatorHoldout: Ignoring 321 ( 0.8%) Users that have less than 1 test interactions\n",
      "EvaluatorHoldout: Ignoring 39964 Users\n",
      "EvaluatorHoldout: Processed 1665 (100.0%) in 3.57 sec. Users per second: 466\n",
      "EvaluatorHoldout: Ignoring 321 ( 0.8%) Users that have less than 1 test interactions\n",
      "EvaluatorHoldout: Ignoring 1665 Users\n"
     ]
    },
    {
     "name": "stderr",
     "output_type": "stream",
     "text": [
      "/Users/fasa/PycharmProjects/RecSys-Challenge-2022-Polimi/Utils/metrics.py:276: RuntimeWarning: overflow encountered in power\n",
      "  return np.sum(np.divide(np.power(2, scores) - 1, np.log2(np.arange(scores.shape[0], dtype=np.float64) + 2)),\n",
      "/Users/fasa/PycharmProjects/RecSys-Challenge-2022-Polimi/Utils/metrics.py:270: RuntimeWarning: invalid value encountered in double_scalars\n",
      "  ndcg_ = rank_dcg / ideal_dcg\n"
     ]
    },
    {
     "name": "stdout",
     "output_type": "stream",
     "text": [
      "EvaluatorHoldout: Processed 39643 (100.0%) in 40.09 sec. Users per second: 989\n",
      "EvaluatorHoldout: Ignoring 321 ( 0.8%) Users that have less than 1 test interactions\n",
      "EvaluatorHoldout: Ignoring 39548 Users\n"
     ]
    },
    {
     "name": "stderr",
     "output_type": "stream",
     "text": [
      "/Users/fasa/PycharmProjects/RecSys-Challenge-2022-Polimi/Utils/metrics.py:276: RuntimeWarning: overflow encountered in power\n",
      "  return np.sum(np.divide(np.power(2, scores) - 1, np.log2(np.arange(scores.shape[0], dtype=np.float64) + 2)),\n",
      "/Users/fasa/PycharmProjects/RecSys-Challenge-2022-Polimi/Utils/metrics.py:270: RuntimeWarning: invalid value encountered in double_scalars\n",
      "  ndcg_ = rank_dcg / ideal_dcg\n"
     ]
    },
    {
     "name": "stdout",
     "output_type": "stream",
     "text": [
      "EvaluatorHoldout: Processed 2081 (100.0%) in 4.52 sec. Users per second: 461\n",
      "EvaluatorHoldout: Ignoring 321 ( 0.8%) Users that have less than 1 test interactions\n",
      "EvaluatorHoldout: Ignoring 2081 Users\n"
     ]
    },
    {
     "name": "stderr",
     "output_type": "stream",
     "text": [
      "/Users/fasa/PycharmProjects/RecSys-Challenge-2022-Polimi/Utils/metrics.py:276: RuntimeWarning: overflow encountered in power\n",
      "  return np.sum(np.divide(np.power(2, scores) - 1, np.log2(np.arange(scores.shape[0], dtype=np.float64) + 2)),\n",
      "/Users/fasa/PycharmProjects/RecSys-Challenge-2022-Polimi/Utils/metrics.py:270: RuntimeWarning: invalid value encountered in double_scalars\n",
      "  ndcg_ = rank_dcg / ideal_dcg\n"
     ]
    },
    {
     "name": "stdout",
     "output_type": "stream",
     "text": [
      "EvaluatorHoldout: Processed 39227 (100.0%) in 39.80 sec. Users per second: 985\n",
      "EvaluatorHoldout: Ignoring 321 ( 0.8%) Users that have less than 1 test interactions\n",
      "EvaluatorHoldout: Ignoring 40381 Users\n",
      "EvaluatorHoldout: Processed 1248 (100.0%) in 2.89 sec. Users per second: 432\n",
      "EvaluatorHoldout: Ignoring 321 ( 0.8%) Users that have less than 1 test interactions\n",
      "EvaluatorHoldout: Ignoring 1248 Users\n"
     ]
    },
    {
     "name": "stderr",
     "output_type": "stream",
     "text": [
      "/Users/fasa/PycharmProjects/RecSys-Challenge-2022-Polimi/Utils/metrics.py:276: RuntimeWarning: overflow encountered in power\n",
      "  return np.sum(np.divide(np.power(2, scores) - 1, np.log2(np.arange(scores.shape[0], dtype=np.float64) + 2)),\n",
      "/Users/fasa/PycharmProjects/RecSys-Challenge-2022-Polimi/Utils/metrics.py:270: RuntimeWarning: invalid value encountered in double_scalars\n",
      "  ndcg_ = rank_dcg / ideal_dcg\n"
     ]
    },
    {
     "name": "stdout",
     "output_type": "stream",
     "text": [
      "EvaluatorHoldout: Processed 40060 (100.0%) in 40.57 sec. Users per second: 987\n",
      "EvaluatorHoldout: Ignoring 321 ( 0.8%) Users that have less than 1 test interactions\n",
      "EvaluatorHoldout: Ignoring 39964 Users\n",
      "EvaluatorHoldout: Processed 1665 (100.0%) in 3.53 sec. Users per second: 472\n",
      "EvaluatorHoldout: Ignoring 321 ( 0.8%) Users that have less than 1 test interactions\n",
      "EvaluatorHoldout: Ignoring 1665 Users\n"
     ]
    },
    {
     "name": "stderr",
     "output_type": "stream",
     "text": [
      "/Users/fasa/PycharmProjects/RecSys-Challenge-2022-Polimi/Utils/metrics.py:276: RuntimeWarning: overflow encountered in power\n",
      "  return np.sum(np.divide(np.power(2, scores) - 1, np.log2(np.arange(scores.shape[0], dtype=np.float64) + 2)),\n",
      "/Users/fasa/PycharmProjects/RecSys-Challenge-2022-Polimi/Utils/metrics.py:270: RuntimeWarning: invalid value encountered in double_scalars\n",
      "  ndcg_ = rank_dcg / ideal_dcg\n"
     ]
    },
    {
     "name": "stdout",
     "output_type": "stream",
     "text": [
      "EvaluatorHoldout: Processed 39643 (100.0%) in 40.18 sec. Users per second: 987\n",
      "EvaluatorHoldout: Ignoring 321 ( 0.8%) Users that have less than 1 test interactions\n",
      "EvaluatorHoldout: Ignoring 39548 Users\n"
     ]
    },
    {
     "name": "stderr",
     "output_type": "stream",
     "text": [
      "/Users/fasa/PycharmProjects/RecSys-Challenge-2022-Polimi/Utils/metrics.py:276: RuntimeWarning: overflow encountered in power\n",
      "  return np.sum(np.divide(np.power(2, scores) - 1, np.log2(np.arange(scores.shape[0], dtype=np.float64) + 2)),\n",
      "/Users/fasa/PycharmProjects/RecSys-Challenge-2022-Polimi/Utils/metrics.py:270: RuntimeWarning: invalid value encountered in double_scalars\n",
      "  ndcg_ = rank_dcg / ideal_dcg\n"
     ]
    },
    {
     "name": "stdout",
     "output_type": "stream",
     "text": [
      "EvaluatorHoldout: Processed 2081 (100.0%) in 4.74 sec. Users per second: 439\n",
      "EvaluatorHoldout: Ignoring 321 ( 0.8%) Users that have less than 1 test interactions\n",
      "EvaluatorHoldout: Ignoring 2081 Users\n"
     ]
    },
    {
     "name": "stderr",
     "output_type": "stream",
     "text": [
      "/Users/fasa/PycharmProjects/RecSys-Challenge-2022-Polimi/Utils/metrics.py:276: RuntimeWarning: overflow encountered in power\n",
      "  return np.sum(np.divide(np.power(2, scores) - 1, np.log2(np.arange(scores.shape[0], dtype=np.float64) + 2)),\n",
      "/Users/fasa/PycharmProjects/RecSys-Challenge-2022-Polimi/Utils/metrics.py:270: RuntimeWarning: invalid value encountered in double_scalars\n",
      "  ndcg_ = rank_dcg / ideal_dcg\n"
     ]
    },
    {
     "name": "stdout",
     "output_type": "stream",
     "text": [
      "EvaluatorHoldout: Processed 39227 (100.0%) in 39.82 sec. Users per second: 985\n",
      "EvaluatorHoldout: Ignoring 321 ( 0.8%) Users that have less than 1 test interactions\n",
      "EvaluatorHoldout: Ignoring 40381 Users\n",
      "EvaluatorHoldout: Processed 1246 (100.0%) in 2.93 sec. Users per second: 425\n",
      "EvaluatorHoldout: Ignoring 321 ( 0.8%) Users that have less than 1 test interactions\n",
      "EvaluatorHoldout: Ignoring 1248 Users\n"
     ]
    },
    {
     "name": "stderr",
     "output_type": "stream",
     "text": [
      "/Users/fasa/PycharmProjects/RecSys-Challenge-2022-Polimi/Utils/metrics.py:276: RuntimeWarning: overflow encountered in power\n",
      "  return np.sum(np.divide(np.power(2, scores) - 1, np.log2(np.arange(scores.shape[0], dtype=np.float64) + 2)),\n",
      "/Users/fasa/PycharmProjects/RecSys-Challenge-2022-Polimi/Utils/metrics.py:270: RuntimeWarning: invalid value encountered in double_scalars\n",
      "  ndcg_ = rank_dcg / ideal_dcg\n"
     ]
    },
    {
     "name": "stdout",
     "output_type": "stream",
     "text": [
      "EvaluatorHoldout: Processed 40062 (100.0%) in 40.63 sec. Users per second: 986\n",
      "EvaluatorHoldout: Ignoring 321 ( 0.8%) Users that have less than 1 test interactions\n",
      "EvaluatorHoldout: Ignoring 39964 Users\n",
      "EvaluatorHoldout: Processed 1665 (100.0%) in 3.62 sec. Users per second: 460\n",
      "EvaluatorHoldout: Ignoring 321 ( 0.8%) Users that have less than 1 test interactions\n",
      "EvaluatorHoldout: Ignoring 1665 Users\n"
     ]
    },
    {
     "name": "stderr",
     "output_type": "stream",
     "text": [
      "/Users/fasa/PycharmProjects/RecSys-Challenge-2022-Polimi/Utils/metrics.py:276: RuntimeWarning: overflow encountered in power\n",
      "  return np.sum(np.divide(np.power(2, scores) - 1, np.log2(np.arange(scores.shape[0], dtype=np.float64) + 2)),\n",
      "/Users/fasa/PycharmProjects/RecSys-Challenge-2022-Polimi/Utils/metrics.py:270: RuntimeWarning: invalid value encountered in double_scalars\n",
      "  ndcg_ = rank_dcg / ideal_dcg\n"
     ]
    },
    {
     "name": "stdout",
     "output_type": "stream",
     "text": [
      "EvaluatorHoldout: Processed 39643 (100.0%) in 40.05 sec. Users per second: 990\n",
      "EvaluatorHoldout: Ignoring 321 ( 0.8%) Users that have less than 1 test interactions\n",
      "EvaluatorHoldout: Ignoring 39548 Users\n"
     ]
    },
    {
     "name": "stderr",
     "output_type": "stream",
     "text": [
      "/Users/fasa/PycharmProjects/RecSys-Challenge-2022-Polimi/Utils/metrics.py:276: RuntimeWarning: overflow encountered in power\n",
      "  return np.sum(np.divide(np.power(2, scores) - 1, np.log2(np.arange(scores.shape[0], dtype=np.float64) + 2)),\n",
      "/Users/fasa/PycharmProjects/RecSys-Challenge-2022-Polimi/Utils/metrics.py:270: RuntimeWarning: invalid value encountered in double_scalars\n",
      "  ndcg_ = rank_dcg / ideal_dcg\n"
     ]
    },
    {
     "name": "stdout",
     "output_type": "stream",
     "text": [
      "EvaluatorHoldout: Processed 2081 (100.0%) in 4.85 sec. Users per second: 429\n",
      "EvaluatorHoldout: Ignoring 321 ( 0.8%) Users that have less than 1 test interactions\n",
      "EvaluatorHoldout: Ignoring 2081 Users\n"
     ]
    },
    {
     "name": "stderr",
     "output_type": "stream",
     "text": [
      "/Users/fasa/PycharmProjects/RecSys-Challenge-2022-Polimi/Utils/metrics.py:276: RuntimeWarning: overflow encountered in power\n",
      "  return np.sum(np.divide(np.power(2, scores) - 1, np.log2(np.arange(scores.shape[0], dtype=np.float64) + 2)),\n",
      "/Users/fasa/PycharmProjects/RecSys-Challenge-2022-Polimi/Utils/metrics.py:270: RuntimeWarning: invalid value encountered in double_scalars\n",
      "  ndcg_ = rank_dcg / ideal_dcg\n"
     ]
    },
    {
     "name": "stdout",
     "output_type": "stream",
     "text": [
      "EvaluatorHoldout: Processed 39227 (100.0%) in 44.99 sec. Users per second: 872\n",
      "EvaluatorHoldout: Ignoring 321 ( 0.8%) Users that have less than 1 test interactions\n",
      "EvaluatorHoldout: Ignoring 40381 Users\n",
      "EvaluatorHoldout: Processed 1246 (100.0%) in 3.69 sec. Users per second: 338\n",
      "EvaluatorHoldout: Ignoring 321 ( 0.8%) Users that have less than 1 test interactions\n",
      "EvaluatorHoldout: Ignoring 1248 Users\n"
     ]
    },
    {
     "name": "stderr",
     "output_type": "stream",
     "text": [
      "/Users/fasa/PycharmProjects/RecSys-Challenge-2022-Polimi/Utils/metrics.py:276: RuntimeWarning: overflow encountered in power\n",
      "  return np.sum(np.divide(np.power(2, scores) - 1, np.log2(np.arange(scores.shape[0], dtype=np.float64) + 2)),\n",
      "/Users/fasa/PycharmProjects/RecSys-Challenge-2022-Polimi/Utils/metrics.py:270: RuntimeWarning: invalid value encountered in double_scalars\n",
      "  ndcg_ = rank_dcg / ideal_dcg\n"
     ]
    },
    {
     "name": "stdout",
     "output_type": "stream",
     "text": [
      "EvaluatorHoldout: Processed 40062 (100.0%) in 41.64 sec. Users per second: 962\n",
      "EvaluatorHoldout: Ignoring 321 ( 0.8%) Users that have less than 1 test interactions\n",
      "EvaluatorHoldout: Ignoring 39964 Users\n",
      "EvaluatorHoldout: Processed 1665 (100.0%) in 3.63 sec. Users per second: 459\n",
      "EvaluatorHoldout: Ignoring 321 ( 0.8%) Users that have less than 1 test interactions\n",
      "EvaluatorHoldout: Ignoring 1665 Users\n"
     ]
    },
    {
     "name": "stderr",
     "output_type": "stream",
     "text": [
      "/Users/fasa/PycharmProjects/RecSys-Challenge-2022-Polimi/Utils/metrics.py:276: RuntimeWarning: overflow encountered in power\n",
      "  return np.sum(np.divide(np.power(2, scores) - 1, np.log2(np.arange(scores.shape[0], dtype=np.float64) + 2)),\n",
      "/Users/fasa/PycharmProjects/RecSys-Challenge-2022-Polimi/Utils/metrics.py:270: RuntimeWarning: invalid value encountered in double_scalars\n",
      "  ndcg_ = rank_dcg / ideal_dcg\n"
     ]
    },
    {
     "name": "stdout",
     "output_type": "stream",
     "text": [
      "EvaluatorHoldout: Processed 39643 (100.0%) in 40.36 sec. Users per second: 982\n",
      "EvaluatorHoldout: Ignoring 321 ( 0.8%) Users that have less than 1 test interactions\n",
      "EvaluatorHoldout: Ignoring 39548 Users\n"
     ]
    },
    {
     "name": "stderr",
     "output_type": "stream",
     "text": [
      "/Users/fasa/PycharmProjects/RecSys-Challenge-2022-Polimi/Utils/metrics.py:276: RuntimeWarning: overflow encountered in power\n",
      "  return np.sum(np.divide(np.power(2, scores) - 1, np.log2(np.arange(scores.shape[0], dtype=np.float64) + 2)),\n",
      "/Users/fasa/PycharmProjects/RecSys-Challenge-2022-Polimi/Utils/metrics.py:270: RuntimeWarning: invalid value encountered in double_scalars\n",
      "  ndcg_ = rank_dcg / ideal_dcg\n"
     ]
    },
    {
     "name": "stdout",
     "output_type": "stream",
     "text": [
      "EvaluatorHoldout: Processed 2081 (100.0%) in 4.92 sec. Users per second: 423\n",
      "EvaluatorHoldout: Ignoring 321 ( 0.8%) Users that have less than 1 test interactions\n",
      "EvaluatorHoldout: Ignoring 2081 Users\n"
     ]
    },
    {
     "name": "stderr",
     "output_type": "stream",
     "text": [
      "/Users/fasa/PycharmProjects/RecSys-Challenge-2022-Polimi/Utils/metrics.py:276: RuntimeWarning: overflow encountered in power\n",
      "  return np.sum(np.divide(np.power(2, scores) - 1, np.log2(np.arange(scores.shape[0], dtype=np.float64) + 2)),\n",
      "/Users/fasa/PycharmProjects/RecSys-Challenge-2022-Polimi/Utils/metrics.py:270: RuntimeWarning: invalid value encountered in double_scalars\n",
      "  ndcg_ = rank_dcg / ideal_dcg\n"
     ]
    },
    {
     "name": "stdout",
     "output_type": "stream",
     "text": [
      "EvaluatorHoldout: Processed 39227 (100.0%) in 40.00 sec. Users per second: 981\n",
      "EvaluatorHoldout: Ignoring 321 ( 0.8%) Users that have less than 1 test interactions\n",
      "EvaluatorHoldout: Ignoring 40381 Users\n",
      "EvaluatorHoldout: Processed 1246 (100.0%) in 2.96 sec. Users per second: 421\n",
      "EvaluatorHoldout: Ignoring 321 ( 0.8%) Users that have less than 1 test interactions\n",
      "EvaluatorHoldout: Ignoring 1248 Users\n"
     ]
    },
    {
     "name": "stderr",
     "output_type": "stream",
     "text": [
      "/Users/fasa/PycharmProjects/RecSys-Challenge-2022-Polimi/Utils/metrics.py:276: RuntimeWarning: overflow encountered in power\n",
      "  return np.sum(np.divide(np.power(2, scores) - 1, np.log2(np.arange(scores.shape[0], dtype=np.float64) + 2)),\n",
      "/Users/fasa/PycharmProjects/RecSys-Challenge-2022-Polimi/Utils/metrics.py:270: RuntimeWarning: invalid value encountered in double_scalars\n",
      "  ndcg_ = rank_dcg / ideal_dcg\n"
     ]
    },
    {
     "name": "stdout",
     "output_type": "stream",
     "text": [
      "EvaluatorHoldout: Processed 40062 (100.0%) in 40.69 sec. Users per second: 985\n",
      "EvaluatorHoldout: Ignoring 321 ( 0.8%) Users that have less than 1 test interactions\n",
      "EvaluatorHoldout: Ignoring 39964 Users\n",
      "EvaluatorHoldout: Processed 1665 (100.0%) in 3.62 sec. Users per second: 460\n",
      "EvaluatorHoldout: Ignoring 321 ( 0.8%) Users that have less than 1 test interactions\n",
      "EvaluatorHoldout: Ignoring 1665 Users\n"
     ]
    },
    {
     "name": "stderr",
     "output_type": "stream",
     "text": [
      "/Users/fasa/PycharmProjects/RecSys-Challenge-2022-Polimi/Utils/metrics.py:276: RuntimeWarning: overflow encountered in power\n",
      "  return np.sum(np.divide(np.power(2, scores) - 1, np.log2(np.arange(scores.shape[0], dtype=np.float64) + 2)),\n",
      "/Users/fasa/PycharmProjects/RecSys-Challenge-2022-Polimi/Utils/metrics.py:270: RuntimeWarning: invalid value encountered in double_scalars\n",
      "  ndcg_ = rank_dcg / ideal_dcg\n"
     ]
    },
    {
     "name": "stdout",
     "output_type": "stream",
     "text": [
      "EvaluatorHoldout: Processed 39643 (100.0%) in 40.17 sec. Users per second: 987\n",
      "EvaluatorHoldout: Ignoring 321 ( 0.8%) Users that have less than 1 test interactions\n",
      "EvaluatorHoldout: Ignoring 39548 Users\n"
     ]
    },
    {
     "name": "stderr",
     "output_type": "stream",
     "text": [
      "/Users/fasa/PycharmProjects/RecSys-Challenge-2022-Polimi/Utils/metrics.py:276: RuntimeWarning: overflow encountered in power\n",
      "  return np.sum(np.divide(np.power(2, scores) - 1, np.log2(np.arange(scores.shape[0], dtype=np.float64) + 2)),\n",
      "/Users/fasa/PycharmProjects/RecSys-Challenge-2022-Polimi/Utils/metrics.py:270: RuntimeWarning: invalid value encountered in double_scalars\n",
      "  ndcg_ = rank_dcg / ideal_dcg\n"
     ]
    },
    {
     "name": "stdout",
     "output_type": "stream",
     "text": [
      "EvaluatorHoldout: Processed 2081 (100.0%) in 4.83 sec. Users per second: 431\n",
      "EvaluatorHoldout: Ignoring 321 ( 0.8%) Users that have less than 1 test interactions\n",
      "EvaluatorHoldout: Ignoring 2081 Users\n"
     ]
    },
    {
     "name": "stderr",
     "output_type": "stream",
     "text": [
      "/Users/fasa/PycharmProjects/RecSys-Challenge-2022-Polimi/Utils/metrics.py:276: RuntimeWarning: overflow encountered in power\n",
      "  return np.sum(np.divide(np.power(2, scores) - 1, np.log2(np.arange(scores.shape[0], dtype=np.float64) + 2)),\n",
      "/Users/fasa/PycharmProjects/RecSys-Challenge-2022-Polimi/Utils/metrics.py:270: RuntimeWarning: invalid value encountered in double_scalars\n",
      "  ndcg_ = rank_dcg / ideal_dcg\n"
     ]
    },
    {
     "name": "stdout",
     "output_type": "stream",
     "text": [
      "EvaluatorHoldout: Processed 39227 (100.0%) in 39.76 sec. Users per second: 987\n",
      "EvaluatorHoldout: Ignoring 321 ( 0.8%) Users that have less than 1 test interactions\n",
      "EvaluatorHoldout: Ignoring 40381 Users\n",
      "EvaluatorHoldout: Processed 1246 (100.0%) in 2.93 sec. Users per second: 425\n",
      "EvaluatorHoldout: Ignoring 321 ( 0.8%) Users that have less than 1 test interactions\n",
      "EvaluatorHoldout: Ignoring 1248 Users\n"
     ]
    },
    {
     "name": "stderr",
     "output_type": "stream",
     "text": [
      "/Users/fasa/PycharmProjects/RecSys-Challenge-2022-Polimi/Utils/metrics.py:276: RuntimeWarning: overflow encountered in power\n",
      "  return np.sum(np.divide(np.power(2, scores) - 1, np.log2(np.arange(scores.shape[0], dtype=np.float64) + 2)),\n",
      "/Users/fasa/PycharmProjects/RecSys-Challenge-2022-Polimi/Utils/metrics.py:270: RuntimeWarning: invalid value encountered in double_scalars\n",
      "  ndcg_ = rank_dcg / ideal_dcg\n"
     ]
    },
    {
     "name": "stdout",
     "output_type": "stream",
     "text": [
      "EvaluatorHoldout: Processed 40062 (100.0%) in 41.04 sec. Users per second: 976\n",
      "EvaluatorHoldout: Ignoring 321 ( 0.8%) Users that have less than 1 test interactions\n",
      "EvaluatorHoldout: Ignoring 39964 Users\n",
      "EvaluatorHoldout: Processed 1665 (100.0%) in 3.61 sec. Users per second: 461\n",
      "EvaluatorHoldout: Ignoring 321 ( 0.8%) Users that have less than 1 test interactions\n",
      "EvaluatorHoldout: Ignoring 1665 Users\n"
     ]
    },
    {
     "name": "stderr",
     "output_type": "stream",
     "text": [
      "/Users/fasa/PycharmProjects/RecSys-Challenge-2022-Polimi/Utils/metrics.py:276: RuntimeWarning: overflow encountered in power\n",
      "  return np.sum(np.divide(np.power(2, scores) - 1, np.log2(np.arange(scores.shape[0], dtype=np.float64) + 2)),\n",
      "/Users/fasa/PycharmProjects/RecSys-Challenge-2022-Polimi/Utils/metrics.py:270: RuntimeWarning: invalid value encountered in double_scalars\n",
      "  ndcg_ = rank_dcg / ideal_dcg\n"
     ]
    },
    {
     "name": "stdout",
     "output_type": "stream",
     "text": [
      "EvaluatorHoldout: Processed 39643 (100.0%) in 43.03 sec. Users per second: 921\n",
      "EvaluatorHoldout: Ignoring 321 ( 0.8%) Users that have less than 1 test interactions\n",
      "EvaluatorHoldout: Ignoring 39548 Users\n"
     ]
    },
    {
     "name": "stderr",
     "output_type": "stream",
     "text": [
      "/Users/fasa/PycharmProjects/RecSys-Challenge-2022-Polimi/Utils/metrics.py:276: RuntimeWarning: overflow encountered in power\n",
      "  return np.sum(np.divide(np.power(2, scores) - 1, np.log2(np.arange(scores.shape[0], dtype=np.float64) + 2)),\n",
      "/Users/fasa/PycharmProjects/RecSys-Challenge-2022-Polimi/Utils/metrics.py:270: RuntimeWarning: invalid value encountered in double_scalars\n",
      "  ndcg_ = rank_dcg / ideal_dcg\n"
     ]
    },
    {
     "name": "stdout",
     "output_type": "stream",
     "text": [
      "EvaluatorHoldout: Processed 2081 (100.0%) in 4.83 sec. Users per second: 431\n",
      "EvaluatorHoldout: Ignoring 321 ( 0.8%) Users that have less than 1 test interactions\n",
      "EvaluatorHoldout: Ignoring 2081 Users\n"
     ]
    },
    {
     "name": "stderr",
     "output_type": "stream",
     "text": [
      "/Users/fasa/PycharmProjects/RecSys-Challenge-2022-Polimi/Utils/metrics.py:276: RuntimeWarning: overflow encountered in power\n",
      "  return np.sum(np.divide(np.power(2, scores) - 1, np.log2(np.arange(scores.shape[0], dtype=np.float64) + 2)),\n",
      "/Users/fasa/PycharmProjects/RecSys-Challenge-2022-Polimi/Utils/metrics.py:270: RuntimeWarning: invalid value encountered in double_scalars\n",
      "  ndcg_ = rank_dcg / ideal_dcg\n"
     ]
    },
    {
     "name": "stdout",
     "output_type": "stream",
     "text": [
      "EvaluatorHoldout: Processed 39227 (100.0%) in 39.77 sec. Users per second: 986\n",
      "EvaluatorHoldout: Ignoring 321 ( 0.8%) Users that have less than 1 test interactions\n",
      "EvaluatorHoldout: Ignoring 40381 Users\n",
      "EvaluatorHoldout: Processed 1247 (100.0%) in 3.00 sec. Users per second: 416\n",
      "EvaluatorHoldout: Ignoring 321 ( 0.8%) Users that have less than 1 test interactions\n",
      "EvaluatorHoldout: Ignoring 1248 Users\n"
     ]
    },
    {
     "name": "stderr",
     "output_type": "stream",
     "text": [
      "/Users/fasa/PycharmProjects/RecSys-Challenge-2022-Polimi/Utils/metrics.py:276: RuntimeWarning: overflow encountered in power\n",
      "  return np.sum(np.divide(np.power(2, scores) - 1, np.log2(np.arange(scores.shape[0], dtype=np.float64) + 2)),\n",
      "/Users/fasa/PycharmProjects/RecSys-Challenge-2022-Polimi/Utils/metrics.py:270: RuntimeWarning: invalid value encountered in double_scalars\n",
      "  ndcg_ = rank_dcg / ideal_dcg\n"
     ]
    },
    {
     "name": "stdout",
     "output_type": "stream",
     "text": [
      "EvaluatorHoldout: Processed 40061 (100.0%) in 40.69 sec. Users per second: 984\n",
      "EvaluatorHoldout: Ignoring 321 ( 0.8%) Users that have less than 1 test interactions\n",
      "EvaluatorHoldout: Ignoring 39964 Users\n",
      "EvaluatorHoldout: Processed 1665 (100.0%) in 3.70 sec. Users per second: 451\n"
     ]
    },
    {
     "name": "stderr",
     "output_type": "stream",
     "text": [
      "/Users/fasa/PycharmProjects/RecSys-Challenge-2022-Polimi/Utils/metrics.py:276: RuntimeWarning: overflow encountered in power\n",
      "  return np.sum(np.divide(np.power(2, scores) - 1, np.log2(np.arange(scores.shape[0], dtype=np.float64) + 2)),\n"
     ]
    },
    {
     "name": "stdout",
     "output_type": "stream",
     "text": [
      "EvaluatorHoldout: Ignoring 321 ( 0.8%) Users that have less than 1 test interactions\n",
      "EvaluatorHoldout: Ignoring 1665 Users\n"
     ]
    },
    {
     "name": "stderr",
     "output_type": "stream",
     "text": [
      "/Users/fasa/PycharmProjects/RecSys-Challenge-2022-Polimi/Utils/metrics.py:276: RuntimeWarning: overflow encountered in power\n",
      "  return np.sum(np.divide(np.power(2, scores) - 1, np.log2(np.arange(scores.shape[0], dtype=np.float64) + 2)),\n",
      "/Users/fasa/PycharmProjects/RecSys-Challenge-2022-Polimi/Utils/metrics.py:270: RuntimeWarning: invalid value encountered in double_scalars\n",
      "  ndcg_ = rank_dcg / ideal_dcg\n"
     ]
    },
    {
     "name": "stdout",
     "output_type": "stream",
     "text": [
      "EvaluatorHoldout: Processed 39643 (100.0%) in 39.95 sec. Users per second: 992\n",
      "EvaluatorHoldout: Ignoring 321 ( 0.8%) Users that have less than 1 test interactions\n",
      "EvaluatorHoldout: Ignoring 39548 Users\n",
      "EvaluatorHoldout: Processed 2081 (100.0%) in 5.51 sec. Users per second: 378\n",
      "EvaluatorHoldout: Ignoring 321 ( 0.8%) Users that have less than 1 test interactions\n",
      "EvaluatorHoldout: Ignoring 2081 Users\n"
     ]
    },
    {
     "name": "stderr",
     "output_type": "stream",
     "text": [
      "/Users/fasa/PycharmProjects/RecSys-Challenge-2022-Polimi/Utils/metrics.py:276: RuntimeWarning: overflow encountered in power\n",
      "  return np.sum(np.divide(np.power(2, scores) - 1, np.log2(np.arange(scores.shape[0], dtype=np.float64) + 2)),\n",
      "/Users/fasa/PycharmProjects/RecSys-Challenge-2022-Polimi/Utils/metrics.py:270: RuntimeWarning: invalid value encountered in double_scalars\n",
      "  ndcg_ = rank_dcg / ideal_dcg\n"
     ]
    },
    {
     "name": "stdout",
     "output_type": "stream",
     "text": [
      "EvaluatorHoldout: Processed 39227 (100.0%) in 39.74 sec. Users per second: 987\n",
      "EvaluatorHoldout: Ignoring 321 ( 0.8%) Users that have less than 1 test interactions\n",
      "EvaluatorHoldout: Ignoring 40381 Users\n",
      "EvaluatorHoldout: Processed 1247 (100.0%) in 2.95 sec. Users per second: 423\n",
      "EvaluatorHoldout: Ignoring 321 ( 0.8%) Users that have less than 1 test interactions\n",
      "EvaluatorHoldout: Ignoring 1248 Users\n"
     ]
    },
    {
     "name": "stderr",
     "output_type": "stream",
     "text": [
      "/Users/fasa/PycharmProjects/RecSys-Challenge-2022-Polimi/Utils/metrics.py:276: RuntimeWarning: overflow encountered in power\n",
      "  return np.sum(np.divide(np.power(2, scores) - 1, np.log2(np.arange(scores.shape[0], dtype=np.float64) + 2)),\n",
      "/Users/fasa/PycharmProjects/RecSys-Challenge-2022-Polimi/Utils/metrics.py:270: RuntimeWarning: invalid value encountered in double_scalars\n",
      "  ndcg_ = rank_dcg / ideal_dcg\n"
     ]
    },
    {
     "name": "stdout",
     "output_type": "stream",
     "text": [
      "EvaluatorHoldout: Processed 40061 (100.0%) in 40.61 sec. Users per second: 986\n",
      "EvaluatorHoldout: Ignoring 321 ( 0.8%) Users that have less than 1 test interactions\n",
      "EvaluatorHoldout: Ignoring 39964 Users\n",
      "EvaluatorHoldout: Processed 1665 (100.0%) in 3.70 sec. Users per second: 451\n"
     ]
    },
    {
     "name": "stderr",
     "output_type": "stream",
     "text": [
      "/Users/fasa/PycharmProjects/RecSys-Challenge-2022-Polimi/Utils/metrics.py:276: RuntimeWarning: overflow encountered in power\n",
      "  return np.sum(np.divide(np.power(2, scores) - 1, np.log2(np.arange(scores.shape[0], dtype=np.float64) + 2)),\n"
     ]
    },
    {
     "name": "stdout",
     "output_type": "stream",
     "text": [
      "EvaluatorHoldout: Ignoring 321 ( 0.8%) Users that have less than 1 test interactions\n",
      "EvaluatorHoldout: Ignoring 1665 Users\n"
     ]
    },
    {
     "name": "stderr",
     "output_type": "stream",
     "text": [
      "/Users/fasa/PycharmProjects/RecSys-Challenge-2022-Polimi/Utils/metrics.py:276: RuntimeWarning: overflow encountered in power\n",
      "  return np.sum(np.divide(np.power(2, scores) - 1, np.log2(np.arange(scores.shape[0], dtype=np.float64) + 2)),\n",
      "/Users/fasa/PycharmProjects/RecSys-Challenge-2022-Polimi/Utils/metrics.py:270: RuntimeWarning: invalid value encountered in double_scalars\n",
      "  ndcg_ = rank_dcg / ideal_dcg\n"
     ]
    },
    {
     "name": "stdout",
     "output_type": "stream",
     "text": [
      "EvaluatorHoldout: Processed 39643 (100.0%) in 39.87 sec. Users per second: 994\n",
      "EvaluatorHoldout: Ignoring 321 ( 0.8%) Users that have less than 1 test interactions\n",
      "EvaluatorHoldout: Ignoring 39548 Users\n",
      "EvaluatorHoldout: Processed 2081 (100.0%) in 5.61 sec. Users per second: 371\n",
      "EvaluatorHoldout: Ignoring 321 ( 0.8%) Users that have less than 1 test interactions\n",
      "EvaluatorHoldout: Ignoring 2081 Users\n"
     ]
    },
    {
     "name": "stderr",
     "output_type": "stream",
     "text": [
      "/Users/fasa/PycharmProjects/RecSys-Challenge-2022-Polimi/Utils/metrics.py:276: RuntimeWarning: overflow encountered in power\n",
      "  return np.sum(np.divide(np.power(2, scores) - 1, np.log2(np.arange(scores.shape[0], dtype=np.float64) + 2)),\n",
      "/Users/fasa/PycharmProjects/RecSys-Challenge-2022-Polimi/Utils/metrics.py:270: RuntimeWarning: invalid value encountered in double_scalars\n",
      "  ndcg_ = rank_dcg / ideal_dcg\n"
     ]
    },
    {
     "name": "stdout",
     "output_type": "stream",
     "text": [
      "EvaluatorHoldout: Processed 39227 (100.0%) in 40.27 sec. Users per second: 974\n",
      "EvaluatorHoldout: Ignoring 321 ( 0.8%) Users that have less than 1 test interactions\n",
      "EvaluatorHoldout: Ignoring 40381 Users\n",
      "EvaluatorHoldout: Processed 1247 (100.0%) in 2.95 sec. Users per second: 423\n",
      "EvaluatorHoldout: Ignoring 321 ( 0.8%) Users that have less than 1 test interactions\n",
      "EvaluatorHoldout: Ignoring 1248 Users\n"
     ]
    },
    {
     "name": "stderr",
     "output_type": "stream",
     "text": [
      "/Users/fasa/PycharmProjects/RecSys-Challenge-2022-Polimi/Utils/metrics.py:276: RuntimeWarning: overflow encountered in power\n",
      "  return np.sum(np.divide(np.power(2, scores) - 1, np.log2(np.arange(scores.shape[0], dtype=np.float64) + 2)),\n",
      "/Users/fasa/PycharmProjects/RecSys-Challenge-2022-Polimi/Utils/metrics.py:270: RuntimeWarning: invalid value encountered in double_scalars\n",
      "  ndcg_ = rank_dcg / ideal_dcg\n"
     ]
    },
    {
     "name": "stdout",
     "output_type": "stream",
     "text": [
      "EvaluatorHoldout: Processed 40061 (100.0%) in 40.97 sec. Users per second: 978\n",
      "EvaluatorHoldout: Ignoring 321 ( 0.8%) Users that have less than 1 test interactions\n",
      "EvaluatorHoldout: Ignoring 39964 Users\n",
      "EvaluatorHoldout: Processed 1665 (100.0%) in 3.83 sec. Users per second: 435\n"
     ]
    },
    {
     "name": "stderr",
     "output_type": "stream",
     "text": [
      "/Users/fasa/PycharmProjects/RecSys-Challenge-2022-Polimi/Utils/metrics.py:276: RuntimeWarning: overflow encountered in power\n",
      "  return np.sum(np.divide(np.power(2, scores) - 1, np.log2(np.arange(scores.shape[0], dtype=np.float64) + 2)),\n"
     ]
    },
    {
     "name": "stdout",
     "output_type": "stream",
     "text": [
      "EvaluatorHoldout: Ignoring 321 ( 0.8%) Users that have less than 1 test interactions\n",
      "EvaluatorHoldout: Ignoring 1665 Users\n"
     ]
    },
    {
     "name": "stderr",
     "output_type": "stream",
     "text": [
      "/Users/fasa/PycharmProjects/RecSys-Challenge-2022-Polimi/Utils/metrics.py:276: RuntimeWarning: overflow encountered in power\n",
      "  return np.sum(np.divide(np.power(2, scores) - 1, np.log2(np.arange(scores.shape[0], dtype=np.float64) + 2)),\n",
      "/Users/fasa/PycharmProjects/RecSys-Challenge-2022-Polimi/Utils/metrics.py:270: RuntimeWarning: invalid value encountered in double_scalars\n",
      "  ndcg_ = rank_dcg / ideal_dcg\n"
     ]
    },
    {
     "name": "stdout",
     "output_type": "stream",
     "text": [
      "EvaluatorHoldout: Processed 39643 (100.0%) in 39.91 sec. Users per second: 993\n",
      "EvaluatorHoldout: Ignoring 321 ( 0.8%) Users that have less than 1 test interactions\n",
      "EvaluatorHoldout: Ignoring 39548 Users\n",
      "EvaluatorHoldout: Processed 2081 (100.0%) in 5.65 sec. Users per second: 368\n",
      "EvaluatorHoldout: Ignoring 321 ( 0.8%) Users that have less than 1 test interactions\n",
      "EvaluatorHoldout: Ignoring 2081 Users\n"
     ]
    },
    {
     "name": "stderr",
     "output_type": "stream",
     "text": [
      "/Users/fasa/PycharmProjects/RecSys-Challenge-2022-Polimi/Utils/metrics.py:276: RuntimeWarning: overflow encountered in power\n",
      "  return np.sum(np.divide(np.power(2, scores) - 1, np.log2(np.arange(scores.shape[0], dtype=np.float64) + 2)),\n",
      "/Users/fasa/PycharmProjects/RecSys-Challenge-2022-Polimi/Utils/metrics.py:270: RuntimeWarning: invalid value encountered in double_scalars\n",
      "  ndcg_ = rank_dcg / ideal_dcg\n"
     ]
    },
    {
     "name": "stdout",
     "output_type": "stream",
     "text": [
      "EvaluatorHoldout: Processed 39227 (100.0%) in 40.07 sec. Users per second: 979\n",
      "EvaluatorHoldout: Ignoring 321 ( 0.8%) Users that have less than 1 test interactions\n",
      "EvaluatorHoldout: Ignoring 40381 Users\n",
      "EvaluatorHoldout: Processed 1247 (100.0%) in 3.01 sec. Users per second: 415\n",
      "EvaluatorHoldout: Ignoring 321 ( 0.8%) Users that have less than 1 test interactions\n",
      "EvaluatorHoldout: Ignoring 1248 Users\n"
     ]
    },
    {
     "name": "stderr",
     "output_type": "stream",
     "text": [
      "/Users/fasa/PycharmProjects/RecSys-Challenge-2022-Polimi/Utils/metrics.py:276: RuntimeWarning: overflow encountered in power\n",
      "  return np.sum(np.divide(np.power(2, scores) - 1, np.log2(np.arange(scores.shape[0], dtype=np.float64) + 2)),\n",
      "/Users/fasa/PycharmProjects/RecSys-Challenge-2022-Polimi/Utils/metrics.py:270: RuntimeWarning: invalid value encountered in double_scalars\n",
      "  ndcg_ = rank_dcg / ideal_dcg\n"
     ]
    },
    {
     "name": "stdout",
     "output_type": "stream",
     "text": [
      "EvaluatorHoldout: Processed 40061 (100.0%) in 42.30 sec. Users per second: 947\n",
      "EvaluatorHoldout: Ignoring 321 ( 0.8%) Users that have less than 1 test interactions\n",
      "EvaluatorHoldout: Ignoring 39964 Users\n",
      "EvaluatorHoldout: Processed 1665 (100.0%) in 3.73 sec. Users per second: 446\n"
     ]
    },
    {
     "name": "stderr",
     "output_type": "stream",
     "text": [
      "/Users/fasa/PycharmProjects/RecSys-Challenge-2022-Polimi/Utils/metrics.py:276: RuntimeWarning: overflow encountered in power\n",
      "  return np.sum(np.divide(np.power(2, scores) - 1, np.log2(np.arange(scores.shape[0], dtype=np.float64) + 2)),\n"
     ]
    },
    {
     "name": "stdout",
     "output_type": "stream",
     "text": [
      "EvaluatorHoldout: Ignoring 321 ( 0.8%) Users that have less than 1 test interactions\n",
      "EvaluatorHoldout: Ignoring 1665 Users\n"
     ]
    },
    {
     "name": "stderr",
     "output_type": "stream",
     "text": [
      "/Users/fasa/PycharmProjects/RecSys-Challenge-2022-Polimi/Utils/metrics.py:276: RuntimeWarning: overflow encountered in power\n",
      "  return np.sum(np.divide(np.power(2, scores) - 1, np.log2(np.arange(scores.shape[0], dtype=np.float64) + 2)),\n",
      "/Users/fasa/PycharmProjects/RecSys-Challenge-2022-Polimi/Utils/metrics.py:270: RuntimeWarning: invalid value encountered in double_scalars\n",
      "  ndcg_ = rank_dcg / ideal_dcg\n"
     ]
    },
    {
     "name": "stdout",
     "output_type": "stream",
     "text": [
      "EvaluatorHoldout: Processed 39643 (100.0%) in 40.87 sec. Users per second: 970\n",
      "EvaluatorHoldout: Ignoring 321 ( 0.8%) Users that have less than 1 test interactions\n",
      "EvaluatorHoldout: Ignoring 39548 Users\n",
      "EvaluatorHoldout: Processed 2081 (100.0%) in 5.57 sec. Users per second: 374\n",
      "EvaluatorHoldout: Ignoring 321 ( 0.8%) Users that have less than 1 test interactions\n",
      "EvaluatorHoldout: Ignoring 2081 Users\n"
     ]
    },
    {
     "name": "stderr",
     "output_type": "stream",
     "text": [
      "/Users/fasa/PycharmProjects/RecSys-Challenge-2022-Polimi/Utils/metrics.py:276: RuntimeWarning: overflow encountered in power\n",
      "  return np.sum(np.divide(np.power(2, scores) - 1, np.log2(np.arange(scores.shape[0], dtype=np.float64) + 2)),\n",
      "/Users/fasa/PycharmProjects/RecSys-Challenge-2022-Polimi/Utils/metrics.py:270: RuntimeWarning: invalid value encountered in double_scalars\n",
      "  ndcg_ = rank_dcg / ideal_dcg\n"
     ]
    },
    {
     "name": "stdout",
     "output_type": "stream",
     "text": [
      "EvaluatorHoldout: Processed 39227 (100.0%) in 39.91 sec. Users per second: 983\n",
      "EvaluatorHoldout: Ignoring 321 ( 0.8%) Users that have less than 1 test interactions\n",
      "EvaluatorHoldout: Ignoring 40381 Users\n",
      "EvaluatorHoldout: Processed 1248 (100.0%) in 2.99 sec. Users per second: 418\n",
      "EvaluatorHoldout: Ignoring 321 ( 0.8%) Users that have less than 1 test interactions\n",
      "EvaluatorHoldout: Ignoring 1248 Users\n"
     ]
    },
    {
     "name": "stderr",
     "output_type": "stream",
     "text": [
      "/Users/fasa/PycharmProjects/RecSys-Challenge-2022-Polimi/Utils/metrics.py:276: RuntimeWarning: overflow encountered in power\n",
      "  return np.sum(np.divide(np.power(2, scores) - 1, np.log2(np.arange(scores.shape[0], dtype=np.float64) + 2)),\n",
      "/Users/fasa/PycharmProjects/RecSys-Challenge-2022-Polimi/Utils/metrics.py:270: RuntimeWarning: invalid value encountered in double_scalars\n",
      "  ndcg_ = rank_dcg / ideal_dcg\n"
     ]
    },
    {
     "name": "stdout",
     "output_type": "stream",
     "text": [
      "EvaluatorHoldout: Processed 40060 (100.0%) in 40.79 sec. Users per second: 982\n",
      "EvaluatorHoldout: Ignoring 321 ( 0.8%) Users that have less than 1 test interactions\n",
      "EvaluatorHoldout: Ignoring 39964 Users\n"
     ]
    },
    {
     "name": "stderr",
     "output_type": "stream",
     "text": [
      "/Users/fasa/PycharmProjects/RecSys-Challenge-2022-Polimi/Utils/metrics.py:276: RuntimeWarning: overflow encountered in power\n",
      "  return np.sum(np.divide(np.power(2, scores) - 1, np.log2(np.arange(scores.shape[0], dtype=np.float64) + 2)),\n",
      "/Users/fasa/PycharmProjects/RecSys-Challenge-2022-Polimi/Utils/metrics.py:270: RuntimeWarning: invalid value encountered in double_scalars\n",
      "  ndcg_ = rank_dcg / ideal_dcg\n"
     ]
    },
    {
     "name": "stdout",
     "output_type": "stream",
     "text": [
      "EvaluatorHoldout: Processed 1665 (100.0%) in 3.83 sec. Users per second: 435\n",
      "EvaluatorHoldout: Ignoring 321 ( 0.8%) Users that have less than 1 test interactions\n",
      "EvaluatorHoldout: Ignoring 1665 Users\n"
     ]
    },
    {
     "name": "stderr",
     "output_type": "stream",
     "text": [
      "/Users/fasa/PycharmProjects/RecSys-Challenge-2022-Polimi/Utils/metrics.py:276: RuntimeWarning: overflow encountered in power\n",
      "  return np.sum(np.divide(np.power(2, scores) - 1, np.log2(np.arange(scores.shape[0], dtype=np.float64) + 2)),\n",
      "/Users/fasa/PycharmProjects/RecSys-Challenge-2022-Polimi/Utils/metrics.py:270: RuntimeWarning: invalid value encountered in double_scalars\n",
      "  ndcg_ = rank_dcg / ideal_dcg\n"
     ]
    },
    {
     "name": "stdout",
     "output_type": "stream",
     "text": [
      "EvaluatorHoldout: Processed 39643 (100.0%) in 40.32 sec. Users per second: 983\n",
      "EvaluatorHoldout: Ignoring 321 ( 0.8%) Users that have less than 1 test interactions\n",
      "EvaluatorHoldout: Ignoring 41620 Users\n",
      "EvaluatorHoldout: Processed 9 (100.0%) in 1.35 sec. Users per second: 7\n",
      "EvaluatorHoldout: Ignoring 321 ( 0.8%) Users that have less than 1 test interactions\n",
      "EvaluatorHoldout: Ignoring 9 Users\n"
     ]
    },
    {
     "name": "stderr",
     "output_type": "stream",
     "text": [
      "/Users/fasa/PycharmProjects/RecSys-Challenge-2022-Polimi/Utils/metrics.py:276: RuntimeWarning: overflow encountered in power\n",
      "  return np.sum(np.divide(np.power(2, scores) - 1, np.log2(np.arange(scores.shape[0], dtype=np.float64) + 2)),\n",
      "/Users/fasa/PycharmProjects/RecSys-Challenge-2022-Polimi/Utils/metrics.py:270: RuntimeWarning: invalid value encountered in double_scalars\n",
      "  ndcg_ = rank_dcg / ideal_dcg\n"
     ]
    },
    {
     "name": "stdout",
     "output_type": "stream",
     "text": [
      "EvaluatorHoldout: Processed 41299 (100.0%) in 41.88 sec. Users per second: 986\n",
      "EvaluatorHoldout: Ignoring 321 ( 0.8%) Users that have less than 1 test interactions\n",
      "EvaluatorHoldout: Ignoring 40381 Users\n",
      "EvaluatorHoldout: Processed 1248 (100.0%) in 2.96 sec. Users per second: 422\n",
      "EvaluatorHoldout: Ignoring 321 ( 0.8%) Users that have less than 1 test interactions\n",
      "EvaluatorHoldout: Ignoring 1248 Users\n"
     ]
    },
    {
     "name": "stderr",
     "output_type": "stream",
     "text": [
      "/Users/fasa/PycharmProjects/RecSys-Challenge-2022-Polimi/Utils/metrics.py:276: RuntimeWarning: overflow encountered in power\n",
      "  return np.sum(np.divide(np.power(2, scores) - 1, np.log2(np.arange(scores.shape[0], dtype=np.float64) + 2)),\n",
      "/Users/fasa/PycharmProjects/RecSys-Challenge-2022-Polimi/Utils/metrics.py:270: RuntimeWarning: invalid value encountered in double_scalars\n",
      "  ndcg_ = rank_dcg / ideal_dcg\n"
     ]
    },
    {
     "name": "stdout",
     "output_type": "stream",
     "text": [
      "EvaluatorHoldout: Processed 40060 (100.0%) in 40.88 sec. Users per second: 980\n",
      "EvaluatorHoldout: Ignoring 321 ( 0.8%) Users that have less than 1 test interactions\n",
      "EvaluatorHoldout: Ignoring 39964 Users\n"
     ]
    },
    {
     "name": "stderr",
     "output_type": "stream",
     "text": [
      "/Users/fasa/PycharmProjects/RecSys-Challenge-2022-Polimi/Utils/metrics.py:276: RuntimeWarning: overflow encountered in power\n",
      "  return np.sum(np.divide(np.power(2, scores) - 1, np.log2(np.arange(scores.shape[0], dtype=np.float64) + 2)),\n",
      "/Users/fasa/PycharmProjects/RecSys-Challenge-2022-Polimi/Utils/metrics.py:270: RuntimeWarning: invalid value encountered in double_scalars\n",
      "  ndcg_ = rank_dcg / ideal_dcg\n"
     ]
    },
    {
     "name": "stdout",
     "output_type": "stream",
     "text": [
      "EvaluatorHoldout: Processed 1665 (100.0%) in 3.80 sec. Users per second: 438\n",
      "EvaluatorHoldout: Ignoring 321 ( 0.8%) Users that have less than 1 test interactions\n",
      "EvaluatorHoldout: Ignoring 1665 Users\n"
     ]
    },
    {
     "name": "stderr",
     "output_type": "stream",
     "text": [
      "/Users/fasa/PycharmProjects/RecSys-Challenge-2022-Polimi/Utils/metrics.py:276: RuntimeWarning: overflow encountered in power\n",
      "  return np.sum(np.divide(np.power(2, scores) - 1, np.log2(np.arange(scores.shape[0], dtype=np.float64) + 2)),\n",
      "/Users/fasa/PycharmProjects/RecSys-Challenge-2022-Polimi/Utils/metrics.py:270: RuntimeWarning: invalid value encountered in double_scalars\n",
      "  ndcg_ = rank_dcg / ideal_dcg\n"
     ]
    },
    {
     "name": "stdout",
     "output_type": "stream",
     "text": [
      "EvaluatorHoldout: Processed 39643 (100.0%) in 40.54 sec. Users per second: 978\n",
      "EvaluatorHoldout: Ignoring 321 ( 0.8%) Users that have less than 1 test interactions\n",
      "EvaluatorHoldout: Ignoring 41620 Users\n",
      "EvaluatorHoldout: Processed 9 (100.0%) in 1.35 sec. Users per second: 7\n",
      "EvaluatorHoldout: Ignoring 321 ( 0.8%) Users that have less than 1 test interactions\n",
      "EvaluatorHoldout: Ignoring 9 Users\n"
     ]
    },
    {
     "name": "stderr",
     "output_type": "stream",
     "text": [
      "/Users/fasa/PycharmProjects/RecSys-Challenge-2022-Polimi/Utils/metrics.py:276: RuntimeWarning: overflow encountered in power\n",
      "  return np.sum(np.divide(np.power(2, scores) - 1, np.log2(np.arange(scores.shape[0], dtype=np.float64) + 2)),\n",
      "/Users/fasa/PycharmProjects/RecSys-Challenge-2022-Polimi/Utils/metrics.py:270: RuntimeWarning: invalid value encountered in double_scalars\n",
      "  ndcg_ = rank_dcg / ideal_dcg\n"
     ]
    },
    {
     "name": "stdout",
     "output_type": "stream",
     "text": [
      "EvaluatorHoldout: Processed 41299 (100.0%) in 42.11 sec. Users per second: 981\n",
      "EvaluatorHoldout: Ignoring 321 ( 0.8%) Users that have less than 1 test interactions\n",
      "EvaluatorHoldout: Ignoring 40381 Users\n",
      "EvaluatorHoldout: Processed 1248 (100.0%) in 3.02 sec. Users per second: 414\n",
      "EvaluatorHoldout: Ignoring 321 ( 0.8%) Users that have less than 1 test interactions\n",
      "EvaluatorHoldout: Ignoring 1248 Users\n"
     ]
    },
    {
     "name": "stderr",
     "output_type": "stream",
     "text": [
      "/Users/fasa/PycharmProjects/RecSys-Challenge-2022-Polimi/Utils/metrics.py:276: RuntimeWarning: overflow encountered in power\n",
      "  return np.sum(np.divide(np.power(2, scores) - 1, np.log2(np.arange(scores.shape[0], dtype=np.float64) + 2)),\n",
      "/Users/fasa/PycharmProjects/RecSys-Challenge-2022-Polimi/Utils/metrics.py:270: RuntimeWarning: invalid value encountered in double_scalars\n",
      "  ndcg_ = rank_dcg / ideal_dcg\n"
     ]
    },
    {
     "name": "stdout",
     "output_type": "stream",
     "text": [
      "EvaluatorHoldout: Processed 40060 (100.0%) in 40.79 sec. Users per second: 982\n",
      "EvaluatorHoldout: Ignoring 321 ( 0.8%) Users that have less than 1 test interactions\n",
      "EvaluatorHoldout: Ignoring 39964 Users\n"
     ]
    },
    {
     "name": "stderr",
     "output_type": "stream",
     "text": [
      "/Users/fasa/PycharmProjects/RecSys-Challenge-2022-Polimi/Utils/metrics.py:276: RuntimeWarning: overflow encountered in power\n",
      "  return np.sum(np.divide(np.power(2, scores) - 1, np.log2(np.arange(scores.shape[0], dtype=np.float64) + 2)),\n",
      "/Users/fasa/PycharmProjects/RecSys-Challenge-2022-Polimi/Utils/metrics.py:270: RuntimeWarning: invalid value encountered in double_scalars\n",
      "  ndcg_ = rank_dcg / ideal_dcg\n"
     ]
    },
    {
     "name": "stdout",
     "output_type": "stream",
     "text": [
      "EvaluatorHoldout: Processed 1665 (100.0%) in 3.81 sec. Users per second: 437\n",
      "EvaluatorHoldout: Ignoring 321 ( 0.8%) Users that have less than 1 test interactions\n",
      "EvaluatorHoldout: Ignoring 1665 Users\n"
     ]
    },
    {
     "name": "stderr",
     "output_type": "stream",
     "text": [
      "/Users/fasa/PycharmProjects/RecSys-Challenge-2022-Polimi/Utils/metrics.py:276: RuntimeWarning: overflow encountered in power\n",
      "  return np.sum(np.divide(np.power(2, scores) - 1, np.log2(np.arange(scores.shape[0], dtype=np.float64) + 2)),\n",
      "/Users/fasa/PycharmProjects/RecSys-Challenge-2022-Polimi/Utils/metrics.py:270: RuntimeWarning: invalid value encountered in double_scalars\n",
      "  ndcg_ = rank_dcg / ideal_dcg\n"
     ]
    },
    {
     "name": "stdout",
     "output_type": "stream",
     "text": [
      "EvaluatorHoldout: Processed 39643 (100.0%) in 40.43 sec. Users per second: 981\n",
      "EvaluatorHoldout: Ignoring 321 ( 0.8%) Users that have less than 1 test interactions\n",
      "EvaluatorHoldout: Ignoring 41620 Users\n",
      "EvaluatorHoldout: Processed 9 (100.0%) in 1.34 sec. Users per second: 7\n",
      "EvaluatorHoldout: Ignoring 321 ( 0.8%) Users that have less than 1 test interactions\n",
      "EvaluatorHoldout: Ignoring 9 Users\n"
     ]
    },
    {
     "name": "stderr",
     "output_type": "stream",
     "text": [
      "/Users/fasa/PycharmProjects/RecSys-Challenge-2022-Polimi/Utils/metrics.py:276: RuntimeWarning: overflow encountered in power\n",
      "  return np.sum(np.divide(np.power(2, scores) - 1, np.log2(np.arange(scores.shape[0], dtype=np.float64) + 2)),\n",
      "/Users/fasa/PycharmProjects/RecSys-Challenge-2022-Polimi/Utils/metrics.py:270: RuntimeWarning: invalid value encountered in double_scalars\n",
      "  ndcg_ = rank_dcg / ideal_dcg\n"
     ]
    },
    {
     "name": "stdout",
     "output_type": "stream",
     "text": [
      "EvaluatorHoldout: Processed 41299 (100.0%) in 42.07 sec. Users per second: 982\n",
      "EvaluatorHoldout: Ignoring 321 ( 0.8%) Users that have less than 1 test interactions\n",
      "EvaluatorHoldout: Ignoring 40381 Users\n",
      "EvaluatorHoldout: Processed 1248 (100.0%) in 2.97 sec. Users per second: 420\n",
      "EvaluatorHoldout: Ignoring 321 ( 0.8%) Users that have less than 1 test interactions\n",
      "EvaluatorHoldout: Ignoring 1248 Users\n"
     ]
    },
    {
     "name": "stderr",
     "output_type": "stream",
     "text": [
      "/Users/fasa/PycharmProjects/RecSys-Challenge-2022-Polimi/Utils/metrics.py:276: RuntimeWarning: overflow encountered in power\n",
      "  return np.sum(np.divide(np.power(2, scores) - 1, np.log2(np.arange(scores.shape[0], dtype=np.float64) + 2)),\n",
      "/Users/fasa/PycharmProjects/RecSys-Challenge-2022-Polimi/Utils/metrics.py:270: RuntimeWarning: invalid value encountered in double_scalars\n",
      "  ndcg_ = rank_dcg / ideal_dcg\n"
     ]
    },
    {
     "name": "stdout",
     "output_type": "stream",
     "text": [
      "EvaluatorHoldout: Processed 40060 (100.0%) in 40.55 sec. Users per second: 988\n",
      "EvaluatorHoldout: Ignoring 321 ( 0.8%) Users that have less than 1 test interactions\n",
      "EvaluatorHoldout: Ignoring 39964 Users\n"
     ]
    },
    {
     "name": "stderr",
     "output_type": "stream",
     "text": [
      "/Users/fasa/PycharmProjects/RecSys-Challenge-2022-Polimi/Utils/metrics.py:276: RuntimeWarning: overflow encountered in power\n",
      "  return np.sum(np.divide(np.power(2, scores) - 1, np.log2(np.arange(scores.shape[0], dtype=np.float64) + 2)),\n",
      "/Users/fasa/PycharmProjects/RecSys-Challenge-2022-Polimi/Utils/metrics.py:270: RuntimeWarning: invalid value encountered in double_scalars\n",
      "  ndcg_ = rank_dcg / ideal_dcg\n"
     ]
    },
    {
     "name": "stdout",
     "output_type": "stream",
     "text": [
      "EvaluatorHoldout: Processed 1665 (100.0%) in 3.78 sec. Users per second: 440\n",
      "EvaluatorHoldout: Ignoring 321 ( 0.8%) Users that have less than 1 test interactions\n",
      "EvaluatorHoldout: Ignoring 1665 Users\n"
     ]
    },
    {
     "name": "stderr",
     "output_type": "stream",
     "text": [
      "/Users/fasa/PycharmProjects/RecSys-Challenge-2022-Polimi/Utils/metrics.py:276: RuntimeWarning: overflow encountered in power\n",
      "  return np.sum(np.divide(np.power(2, scores) - 1, np.log2(np.arange(scores.shape[0], dtype=np.float64) + 2)),\n",
      "/Users/fasa/PycharmProjects/RecSys-Challenge-2022-Polimi/Utils/metrics.py:270: RuntimeWarning: invalid value encountered in double_scalars\n",
      "  ndcg_ = rank_dcg / ideal_dcg\n"
     ]
    },
    {
     "name": "stdout",
     "output_type": "stream",
     "text": [
      "EvaluatorHoldout: Processed 39643 (100.0%) in 40.03 sec. Users per second: 990\n",
      "EvaluatorHoldout: Ignoring 321 ( 0.8%) Users that have less than 1 test interactions\n",
      "EvaluatorHoldout: Ignoring 41620 Users\n",
      "EvaluatorHoldout: Processed 9 (100.0%) in 1.35 sec. Users per second: 7\n",
      "EvaluatorHoldout: Ignoring 321 ( 0.8%) Users that have less than 1 test interactions\n",
      "EvaluatorHoldout: Ignoring 9 Users\n"
     ]
    },
    {
     "name": "stderr",
     "output_type": "stream",
     "text": [
      "/Users/fasa/PycharmProjects/RecSys-Challenge-2022-Polimi/Utils/metrics.py:276: RuntimeWarning: overflow encountered in power\n",
      "  return np.sum(np.divide(np.power(2, scores) - 1, np.log2(np.arange(scores.shape[0], dtype=np.float64) + 2)),\n",
      "/Users/fasa/PycharmProjects/RecSys-Challenge-2022-Polimi/Utils/metrics.py:270: RuntimeWarning: invalid value encountered in double_scalars\n",
      "  ndcg_ = rank_dcg / ideal_dcg\n"
     ]
    },
    {
     "name": "stdout",
     "output_type": "stream",
     "text": [
      "EvaluatorHoldout: Processed 41299 (100.0%) in 41.96 sec. Users per second: 984\n",
      "EvaluatorHoldout: Ignoring 321 ( 0.8%) Users that have less than 1 test interactions\n",
      "EvaluatorHoldout: Ignoring 40381 Users\n",
      "EvaluatorHoldout: Processed 1248 (100.0%) in 3.00 sec. Users per second: 415\n",
      "EvaluatorHoldout: Ignoring 321 ( 0.8%) Users that have less than 1 test interactions\n",
      "EvaluatorHoldout: Ignoring 1248 Users\n"
     ]
    },
    {
     "name": "stderr",
     "output_type": "stream",
     "text": [
      "/Users/fasa/PycharmProjects/RecSys-Challenge-2022-Polimi/Utils/metrics.py:276: RuntimeWarning: overflow encountered in power\n",
      "  return np.sum(np.divide(np.power(2, scores) - 1, np.log2(np.arange(scores.shape[0], dtype=np.float64) + 2)),\n",
      "/Users/fasa/PycharmProjects/RecSys-Challenge-2022-Polimi/Utils/metrics.py:270: RuntimeWarning: invalid value encountered in double_scalars\n",
      "  ndcg_ = rank_dcg / ideal_dcg\n"
     ]
    },
    {
     "name": "stdout",
     "output_type": "stream",
     "text": [
      "EvaluatorHoldout: Processed 40060 (100.0%) in 40.61 sec. Users per second: 986\n",
      "EvaluatorHoldout: Ignoring 321 ( 0.8%) Users that have less than 1 test interactions\n",
      "EvaluatorHoldout: Ignoring 39964 Users\n",
      "EvaluatorHoldout: Processed 1665 (100.0%) in 3.86 sec. Users per second: 431\n"
     ]
    },
    {
     "name": "stderr",
     "output_type": "stream",
     "text": [
      "/Users/fasa/PycharmProjects/RecSys-Challenge-2022-Polimi/Utils/metrics.py:276: RuntimeWarning: overflow encountered in power\n",
      "  return np.sum(np.divide(np.power(2, scores) - 1, np.log2(np.arange(scores.shape[0], dtype=np.float64) + 2)),\n",
      "/Users/fasa/PycharmProjects/RecSys-Challenge-2022-Polimi/Utils/metrics.py:270: RuntimeWarning: invalid value encountered in double_scalars\n",
      "  ndcg_ = rank_dcg / ideal_dcg\n"
     ]
    },
    {
     "name": "stdout",
     "output_type": "stream",
     "text": [
      "EvaluatorHoldout: Ignoring 321 ( 0.8%) Users that have less than 1 test interactions\n",
      "EvaluatorHoldout: Ignoring 1665 Users\n"
     ]
    },
    {
     "name": "stderr",
     "output_type": "stream",
     "text": [
      "/Users/fasa/PycharmProjects/RecSys-Challenge-2022-Polimi/Utils/metrics.py:276: RuntimeWarning: overflow encountered in power\n",
      "  return np.sum(np.divide(np.power(2, scores) - 1, np.log2(np.arange(scores.shape[0], dtype=np.float64) + 2)),\n",
      "/Users/fasa/PycharmProjects/RecSys-Challenge-2022-Polimi/Utils/metrics.py:270: RuntimeWarning: invalid value encountered in double_scalars\n",
      "  ndcg_ = rank_dcg / ideal_dcg\n"
     ]
    },
    {
     "name": "stdout",
     "output_type": "stream",
     "text": [
      "EvaluatorHoldout: Processed 39643 (100.0%) in 38.04 sec. Users per second: 1042\n",
      "EvaluatorHoldout: Ignoring 321 ( 0.8%) Users that have less than 1 test interactions\n",
      "EvaluatorHoldout: Ignoring 41629 Users\n",
      "EvaluatorHoldout: WARNING: No users had a sufficient number of relevant items\n"
     ]
    },
    {
     "ename": "TypeError",
     "evalue": "unsupported format string passed to MAP.__format__",
     "output_type": "error",
     "traceback": [
      "\u001B[0;31m---------------------------------------------------------------------------\u001B[0m",
      "\u001B[0;31mTypeError\u001B[0m                                 Traceback (most recent call last)",
      "\u001B[0;32m/var/folders/fv/ckspmkyx14g_h7sv41m5pjj80000gn/T/ipykernel_48813/3132336539.py\u001B[0m in \u001B[0;36m<cell line: 5>\u001B[0;34m()\u001B[0m\n\u001B[1;32m     30\u001B[0m         \u001B[0mcutoff\u001B[0m\u001B[0;34m=\u001B[0m\u001B[0;36m10\u001B[0m\u001B[0;34m\u001B[0m\u001B[0;34m\u001B[0m\u001B[0m\n\u001B[1;32m     31\u001B[0m         \u001B[0mevaluator_test\u001B[0m \u001B[0;34m=\u001B[0m \u001B[0mEvaluatorHoldout\u001B[0m\u001B[0;34m(\u001B[0m\u001B[0mURM_test\u001B[0m\u001B[0;34m,\u001B[0m \u001B[0mcutoff_list\u001B[0m\u001B[0;34m=\u001B[0m\u001B[0;34m[\u001B[0m\u001B[0mcutoff\u001B[0m\u001B[0;34m]\u001B[0m\u001B[0;34m,\u001B[0m \u001B[0mignore_users\u001B[0m\u001B[0;34m=\u001B[0m\u001B[0musers_not_in_group\u001B[0m\u001B[0;34m)\u001B[0m\u001B[0;34m\u001B[0m\u001B[0;34m\u001B[0m\u001B[0m\n\u001B[0;32m---> 32\u001B[0;31m         \u001B[0mresult_df\u001B[0m\u001B[0;34m,\u001B[0m \u001B[0m_\u001B[0m \u001B[0;34m=\u001B[0m \u001B[0mevaluator_test\u001B[0m\u001B[0;34m.\u001B[0m\u001B[0mevaluateRecommender\u001B[0m\u001B[0;34m(\u001B[0m\u001B[0mitemKNN\u001B[0m\u001B[0;34m)\u001B[0m\u001B[0;34m\u001B[0m\u001B[0;34m\u001B[0m\u001B[0m\n\u001B[0m\u001B[1;32m     33\u001B[0m \u001B[0;34m\u001B[0m\u001B[0m\n\u001B[1;32m     34\u001B[0m         \u001B[0mevaluator_test2\u001B[0m \u001B[0;34m=\u001B[0m \u001B[0mEvaluatorHoldout\u001B[0m\u001B[0;34m(\u001B[0m\u001B[0mURM_test\u001B[0m\u001B[0;34m,\u001B[0m \u001B[0mcutoff_list\u001B[0m\u001B[0;34m=\u001B[0m\u001B[0;34m[\u001B[0m\u001B[0mcutoff\u001B[0m\u001B[0;34m]\u001B[0m\u001B[0;34m,\u001B[0m \u001B[0mignore_users\u001B[0m\u001B[0;34m=\u001B[0m\u001B[0musers_in_group\u001B[0m\u001B[0;34m)\u001B[0m\u001B[0;34m\u001B[0m\u001B[0;34m\u001B[0m\u001B[0m\n",
      "\u001B[0;32m~/PycharmProjects/RecSys-Challenge-2022-Polimi/Utils/Evaluator.py\u001B[0m in \u001B[0;36mevaluateRecommender\u001B[0;34m(self, recommender_object)\u001B[0m\n\u001B[1;32m    312\u001B[0m             \u001B[0mresults_df\u001B[0m\u001B[0;34m.\u001B[0m\u001B[0mloc\u001B[0m\u001B[0;34m[\u001B[0m\u001B[0mcutoff\u001B[0m\u001B[0;34m]\u001B[0m \u001B[0;34m=\u001B[0m \u001B[0mresults_dict\u001B[0m\u001B[0;34m[\u001B[0m\u001B[0mcutoff\u001B[0m\u001B[0;34m]\u001B[0m\u001B[0;34m\u001B[0m\u001B[0;34m\u001B[0m\u001B[0m\n\u001B[1;32m    313\u001B[0m \u001B[0;34m\u001B[0m\u001B[0m\n\u001B[0;32m--> 314\u001B[0;31m         \u001B[0mresults_run_string\u001B[0m \u001B[0;34m=\u001B[0m \u001B[0mget_result_string_df\u001B[0m\u001B[0;34m(\u001B[0m\u001B[0mresults_df\u001B[0m\u001B[0;34m)\u001B[0m\u001B[0;34m\u001B[0m\u001B[0;34m\u001B[0m\u001B[0m\n\u001B[0m\u001B[1;32m    315\u001B[0m \u001B[0;34m\u001B[0m\u001B[0m\n\u001B[1;32m    316\u001B[0m         \u001B[0;32mreturn\u001B[0m \u001B[0mresults_df\u001B[0m \u001B[0;34m,\u001B[0m \u001B[0mresults_run_string\u001B[0m\u001B[0;34m\u001B[0m\u001B[0;34m\u001B[0m\u001B[0m\n",
      "\u001B[0;32m~/PycharmProjects/RecSys-Challenge-2022-Polimi/Utils/Evaluator.py\u001B[0m in \u001B[0;36mget_result_string_df\u001B[0;34m(results_run_df, n_decimals)\u001B[0m\n\u001B[1;32m    150\u001B[0m \u001B[0;34m\u001B[0m\u001B[0m\n\u001B[1;32m    151\u001B[0m         \u001B[0;32mfor\u001B[0m \u001B[0mmetric\u001B[0m \u001B[0;32min\u001B[0m \u001B[0mresults_run_df\u001B[0m\u001B[0;34m.\u001B[0m\u001B[0mcolumns\u001B[0m\u001B[0;34m:\u001B[0m\u001B[0;34m\u001B[0m\u001B[0;34m\u001B[0m\u001B[0m\n\u001B[0;32m--> 152\u001B[0;31m             \u001B[0moutput_str\u001B[0m \u001B[0;34m+=\u001B[0m \u001B[0;34m\"{}: {:.{n_decimals}f}, \"\u001B[0m\u001B[0;34m.\u001B[0m\u001B[0mformat\u001B[0m\u001B[0;34m(\u001B[0m\u001B[0mmetric\u001B[0m\u001B[0;34m,\u001B[0m \u001B[0mresults_run_df\u001B[0m\u001B[0;34m.\u001B[0m\u001B[0mloc\u001B[0m\u001B[0;34m[\u001B[0m\u001B[0mcutoff\u001B[0m\u001B[0;34m,\u001B[0m \u001B[0mmetric\u001B[0m\u001B[0;34m]\u001B[0m\u001B[0;34m,\u001B[0m \u001B[0mn_decimals\u001B[0m \u001B[0;34m=\u001B[0m \u001B[0mn_decimals\u001B[0m\u001B[0;34m)\u001B[0m\u001B[0;34m\u001B[0m\u001B[0;34m\u001B[0m\u001B[0m\n\u001B[0m\u001B[1;32m    153\u001B[0m \u001B[0;34m\u001B[0m\u001B[0m\n\u001B[1;32m    154\u001B[0m         \u001B[0moutput_str\u001B[0m \u001B[0;34m+=\u001B[0m \u001B[0;34m\"\\n\"\u001B[0m\u001B[0;34m\u001B[0m\u001B[0;34m\u001B[0m\u001B[0m\n",
      "\u001B[0;31mTypeError\u001B[0m: unsupported format string passed to MAP.__format__"
     ]
    }
   ],
   "source": [
    "alphaL=numpy.arange(0.10, 0.3, 0.1)\n",
    "betaL=numpy.arange(0.10, 0.3, 0.1)\n",
    "gammaL=numpy.arange(0.10, 0.3, 0.1)\n",
    "blockfact=numpy.arange(0.03, 0.05, 0.01)\n",
    "for group_id in tqdm(range(17, 22)):\n",
    "    for x in itertools.product(betaL,gammaL,blockfact):\n",
    "        beta=x[0]\n",
    "        gamma=x[1]\n",
    "        blockfactor=x[2]\n",
    "        profile_length = np.ediff1d(sps.csr_matrix(URM_all).indptr)\n",
    "        sorted_users = np.argsort(profile_length)\n",
    "        block_size = int(len(profile_length)*blockfactor)\n",
    "        start_pos = group_id*block_size\n",
    "        end_pos = min((group_id+1)*block_size, len(profile_length))\n",
    "\n",
    "        users_in_group = sorted_users[start_pos:end_pos]\n",
    "\n",
    "        users_in_group_p_len = profile_length[users_in_group]\n",
    "        users_not_in_group_flag = np.isin(sorted_users, users_in_group, invert=True)\n",
    "        users_not_in_group = sorted_users[users_not_in_group_flag]\n",
    "\n",
    "        w1=len(users_in_group)/len(profile_length)\n",
    "        w2=len(users_not_in_group)/len(profile_length)\n",
    "        from Utils.Evaluator import EvaluatorHoldout\n",
    "        from Recommenders.GeneralizedMergedHybridRecommender import GeneralizedMergedHybridRecommender\n",
    "        import numpy as np\n",
    "\n",
    "\n",
    "\n",
    "        cutoff=10\n",
    "        evaluator_test = EvaluatorHoldout(URM_test, cutoff_list=[cutoff], ignore_users=users_not_in_group)\n",
    "        result_df, _ = evaluator_test.evaluateRecommender(itemKNN)\n",
    "\n",
    "        evaluator_test2 = EvaluatorHoldout(URM_test, cutoff_list=[cutoff], ignore_users=users_in_group)\n",
    "        result_df2, _ = evaluator_test2.evaluateRecommender(ials)\n",
    "        r2=result_df2[\"MAP\"][10]\n",
    "        r=result_df[\"MAP\"][10]\n",
    "        result=r*w1+r2*w2\n",
    "        if result>best_result:\n",
    "            best_result=result\n",
    "            best={\n",
    "                \"groupid:\":str(group_id),\n",
    "                \"block_factor\":str(blockfactor),\n",
    "                \"MAP\":str(best_result)\n",
    "            }\n",
    "            parent_dir =  \"../\"\n",
    "            write_path = os.path.join(parent_dir, \"Testing_Results/grid.csv\")\n",
    "            with open(write_path, \"w+\") as d:\n",
    "                d.write(str(best))\n",
    "                d.write('\\n')"
   ],
   "metadata": {
    "collapsed": false,
    "pycharm": {
     "name": "#%%\n"
    }
   }
  },
  {
   "cell_type": "code",
   "execution_count": null,
   "outputs": [],
   "source": [],
   "metadata": {
    "collapsed": false,
    "pycharm": {
     "name": "#%%\n"
    }
   }
  }
 ],
 "metadata": {
  "kernelspec": {
   "display_name": "Python 3",
   "language": "python",
   "name": "python3"
  },
  "language_info": {
   "codemirror_mode": {
    "name": "ipython",
    "version": 2
   },
   "file_extension": ".py",
   "mimetype": "text/x-python",
   "name": "python",
   "nbconvert_exporter": "python",
   "pygments_lexer": "ipython2",
   "version": "2.7.6"
  }
 },
 "nbformat": 4,
 "nbformat_minor": 0
}