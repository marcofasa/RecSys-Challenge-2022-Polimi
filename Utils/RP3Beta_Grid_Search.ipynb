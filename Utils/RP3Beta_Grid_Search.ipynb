{
 "cells": [
  {
   "cell_type": "code",
   "execution_count": 1,
   "outputs": [],
   "source": [
    "import scipy.sparse as sps\n",
    "from Recommenders.Hybrid.ItemUserHybridKNNRecommender import ItemUserHybridKNNRecommender\n",
    "from Utils.Evaluator import EvaluatorHoldout\n",
    "import Utils.Reader as Reader\n",
    "from Data_manager.split_functions.split_train_validation_random_holdout import\\\n",
    "    split_train_in_two_percentage_global_sample"
   ],
   "metadata": {
    "collapsed": false,
    "pycharm": {
     "name": "#%%\n"
    }
   }
  },
  {
   "cell_type": "code",
   "execution_count": null,
   "outputs": [
    {
     "name": "stdout",
     "output_type": "stream",
     "text": [
      "Unique UserID in the URM are 41629\n",
      "Unique UserID in the URM and ICM are 41629\n",
      "5826506\n",
      "Warning: 318 (0.76 %) of 41629 users have no sampled items\n",
      "Warning: 759 (1.82 %) of 41629 users have no sampled items\n",
      "EvaluatorHoldout: Ignoring 759 ( 1.8%) Users that have less than 1 test interactions\n",
      "EvaluatorHoldout: Ignoring 318 ( 0.8%) Users that have less than 1 test interactions\n"
     ]
    },
    {
     "data": {
      "text/plain": "  0%|          | 0/686 [00:00<?, ?it/s]",
      "application/vnd.jupyter.widget-view+json": {
       "version_major": 2,
       "version_minor": 0,
       "model_id": "679eb809b8634c5ca95a344837ee17de"
      }
     },
     "metadata": {},
     "output_type": "display_data"
    },
    {
     "name": "stderr",
     "output_type": "stream",
     "text": [
      "/Users/fasa/PycharmProjects/RecSys-Challenge-2022-Polimi/Utils/metrics.py:276: RuntimeWarning: overflow encountered in power\n",
      "  return np.sum(np.divide(np.power(2, scores) - 1, np.log2(np.arange(scores.shape[0], dtype=np.float64) + 2)),\n",
      "/Users/fasa/PycharmProjects/RecSys-Challenge-2022-Polimi/Utils/metrics.py:270: RuntimeWarning: invalid value encountered in double_scalars\n",
      "  ndcg_ = rank_dcg / ideal_dcg\n"
     ]
    },
    {
     "name": "stdout",
     "output_type": "stream",
     "text": [
      "EvaluatorHoldout: Processed 40870 (100.0%) in 32.72 sec. Users per second: 1249\n"
     ]
    }
   ],
   "source": [
    "from Recommenders.GraphBased.RP3betaRecommender import RP3betaRecommender\n",
    "#1\n",
    "import numpy\n",
    "import itertools\n",
    "from tqdm.notebook import tqdm\n",
    "# GRID SEARCH RP3BETA\n",
    "best=0\n",
    "config={\n",
    "    \"k\":0,\n",
    "    \"a\":0,\n",
    "    \"b\":0\n",
    "\n",
    "}\n",
    "cutoff_list=[10]\n",
    "from Recommenders.RP3betaCBFRecommender import RP3betaCBFRecommender\n",
    "URM_all=Reader.read_train_csr(values_to_replace={0:0.2})\n",
    "\n",
    "URM_train, URM_test = split_train_in_two_percentage_global_sample(URM_all, train_percentage = 0.8)\n",
    "URM_train, URM_validation = split_train_in_two_percentage_global_sample(URM_train, train_percentage = 0.8)\n",
    "\n",
    "evaluator_validation = EvaluatorHoldout(URM_validation, cutoff_list=cutoff_list)\n",
    "evaluator_test = EvaluatorHoldout(URM_test, cutoff_list=cutoff_list)\n",
    "rp3betaCBF_recommender = RP3betaRecommender(\n",
    "    URM_train=URM_train,\n",
    "    verbose=False\n",
    ")\n",
    "\n",
    "TopkList=numpy.arange(100, 800, 100)\n",
    "aList=numpy.arange(0.1, 0.8, 0.1)\n",
    "bList=numpy.arange(0.1, 0.8, 0.1)\n",
    "implicit=[True,False]\n",
    "for x in tqdm(itertools.product(TopkList,aList,bList,implicit),total=int(len(TopkList)*len(aList)*len(bList)*2), position=0, leave=True):\n",
    "    k=x[0]\n",
    "    a=x[1]\n",
    "    b=x[2]\n",
    "    i=x[3]\n",
    "    rp3betaCBF_recommender.fit(\n",
    "        topK=k,\n",
    "        alpha=a,\n",
    "        beta=b,\n",
    "        implicit=i\n",
    "    )\n",
    "\n",
    "    result_df, _ = evaluator_validation.evaluateRecommender(rp3betaCBF_recommender)\n",
    "    if result_df[\"MAP\"][10] > best:\n",
    "        best=result_df[\"MAP\"][10]\n",
    "        config={\n",
    "            \"k\":k,\n",
    "            \"a\":a,\n",
    "            \"b\":b,\n",
    "            \"implici\":i\n",
    "        }\n",
    "        #open text file\n",
    "        text_file = open(\"result_experiments/grid_search/rp3beta.txt\", \"w\")\n",
    "\n",
    "        #write string to file\n",
    "        text_file.write(str(config) +str(best))\n",
    "\n",
    "        #close file\n",
    "        text_file.close()\n",
    "\n",
    "best,config"
   ],
   "metadata": {
    "collapsed": false,
    "pycharm": {
     "name": "#%%\n",
     "is_executing": true
    }
   }
  },
  {
   "cell_type": "code",
   "execution_count": null,
   "outputs": [],
   "source": [
    "best,config"
   ],
   "metadata": {
    "collapsed": false,
    "pycharm": {
     "name": "#%%\n"
    }
   }
  },
  {
   "cell_type": "code",
   "execution_count": null,
   "outputs": [],
   "source": [],
   "metadata": {
    "collapsed": false,
    "pycharm": {
     "name": "#%%\n"
    }
   }
  }
 ],
 "metadata": {
  "kernelspec": {
   "display_name": "Python 3",
   "language": "python",
   "name": "python3"
  },
  "language_info": {
   "codemirror_mode": {
    "name": "ipython",
    "version": 2
   },
   "file_extension": ".py",
   "mimetype": "text/x-python",
   "name": "python",
   "nbconvert_exporter": "python",
   "pygments_lexer": "ipython2",
   "version": "2.7.6"
  }
 },
 "nbformat": 4,
 "nbformat_minor": 0
}