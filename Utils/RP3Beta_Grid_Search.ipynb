{
 "cells": [
  {
   "cell_type": "code",
   "execution_count": 1,
   "outputs": [],
   "source": [
    "import scipy.sparse as sps\n",
    "from Recommenders.Hybrid.ItemUserHybridKNNRecommender import ItemUserHybridKNNRecommender\n",
    "from Utils.Evaluator import EvaluatorHoldout\n",
    "import Utils.Reader as Reader\n",
    "from Data_manager.split_functions.split_train_validation_random_holdout import\\\n",
    "    split_train_in_two_percentage_global_sample"
   ],
   "metadata": {
    "collapsed": false
   }
  },
  {
   "cell_type": "code",
   "execution_count": null,
   "outputs": [
    {
     "data": {
      "text/plain": "  0%|          | 0/144 [00:00<?, ?it/s]",
      "application/vnd.jupyter.widget-view+json": {
       "version_major": 2,
       "version_minor": 0,
       "model_id": "9b5efeaba7f44be19a81de7499b80f12"
      }
     },
     "metadata": {},
     "output_type": "display_data"
    },
    {
     "name": "stdout",
     "output_type": "stream",
     "text": [
      "EvaluatorHoldout: Ignoring 1594 ( 3.8%) Users that have less than 1 test interactions\n",
      "RP3betaRecommender: Similarity column 24507 (100.0%), 2859.15 column/sec. Elapsed time 8.57 sec\n"
     ]
    },
    {
     "name": "stderr",
     "output_type": "stream",
     "text": [
      "/Users/marcofasanella/PycharmProjects/RecSys-Challenge-2022-Polimi/Utils/metrics.py:276: RuntimeWarning: overflow encountered in power\n",
      "  return np.sum(np.divide(np.power(2, scores) - 1, np.log2(np.arange(scores.shape[0], dtype=np.float64) + 2)),\n",
      "/Users/marcofasanella/PycharmProjects/RecSys-Challenge-2022-Polimi/Utils/metrics.py:270: RuntimeWarning: invalid value encountered in double_scalars\n",
      "  ndcg_ = rank_dcg / ideal_dcg\n"
     ]
    },
    {
     "name": "stdout",
     "output_type": "stream",
     "text": [
      "EvaluatorHoldout: Processed 40035 (100.0%) in 17.18 sec. Users per second: 2331\n",
      "EvaluatorHoldout: Ignoring 1545 ( 3.7%) Users that have less than 1 test interactions\n",
      "RP3betaRecommender: Similarity column 24507 (100.0%), 2874.42 column/sec. Elapsed time 8.53 sec\n"
     ]
    },
    {
     "name": "stderr",
     "output_type": "stream",
     "text": [
      "/Users/marcofasanella/PycharmProjects/RecSys-Challenge-2022-Polimi/Utils/metrics.py:276: RuntimeWarning: overflow encountered in power\n",
      "  return np.sum(np.divide(np.power(2, scores) - 1, np.log2(np.arange(scores.shape[0], dtype=np.float64) + 2)),\n",
      "/Users/marcofasanella/PycharmProjects/RecSys-Challenge-2022-Polimi/Utils/metrics.py:270: RuntimeWarning: invalid value encountered in double_scalars\n",
      "  ndcg_ = rank_dcg / ideal_dcg\n"
     ]
    },
    {
     "name": "stdout",
     "output_type": "stream",
     "text": [
      "EvaluatorHoldout: Processed 40084 (100.0%) in 17.15 sec. Users per second: 2338\n",
      "RP3betaRecommender: URM Detected 2 ( 0.0%) users with no interactions.\n",
      "EvaluatorHoldout: Ignoring 1502 ( 3.6%) Users that have less than 1 test interactions\n",
      "RP3betaRecommender: Similarity column 24507 (100.0%), 2902.06 column/sec. Elapsed time 8.44 sec\n"
     ]
    },
    {
     "name": "stderr",
     "output_type": "stream",
     "text": [
      "/Users/marcofasanella/PycharmProjects/RecSys-Challenge-2022-Polimi/Utils/metrics.py:276: RuntimeWarning: overflow encountered in power\n",
      "  return np.sum(np.divide(np.power(2, scores) - 1, np.log2(np.arange(scores.shape[0], dtype=np.float64) + 2)),\n"
     ]
    },
    {
     "name": "stdout",
     "output_type": "stream",
     "text": [
      "EvaluatorHoldout: Processed 40127 (100.0%) in 16.84 sec. Users per second: 2383\n",
      "RP3betaRecommender: URM Detected 1 ( 0.0%) users with no interactions.\n",
      "RP3betaRecommender: URM Detected 1 ( 0.0%) items with no interactions.\n",
      "EvaluatorHoldout: Ignoring 1533 ( 3.7%) Users that have less than 1 test interactions\n",
      "RP3betaRecommender: Similarity column 24507 (100.0%), 2850.26 column/sec. Elapsed time 8.60 sec\n"
     ]
    },
    {
     "name": "stderr",
     "output_type": "stream",
     "text": [
      "/Users/marcofasanella/PycharmProjects/RecSys-Challenge-2022-Polimi/Utils/metrics.py:276: RuntimeWarning: overflow encountered in power\n",
      "  return np.sum(np.divide(np.power(2, scores) - 1, np.log2(np.arange(scores.shape[0], dtype=np.float64) + 2)),\n",
      "/Users/marcofasanella/PycharmProjects/RecSys-Challenge-2022-Polimi/Utils/metrics.py:270: RuntimeWarning: invalid value encountered in double_scalars\n",
      "  ndcg_ = rank_dcg / ideal_dcg\n"
     ]
    },
    {
     "name": "stdout",
     "output_type": "stream",
     "text": [
      "EvaluatorHoldout: Processed 40096 (100.0%) in 17.01 sec. Users per second: 2357\n"
     ]
    }
   ],
   "source": [
    "from Recommenders.KNN.ItemKNNCFRecommender import ItemKNNCFRecommender\n",
    "from Recommenders.GraphBased.RP3betaRecommender import RP3betaRecommender\n",
    "#1\n",
    "import numpy\n",
    "import itertools\n",
    "from tqdm.notebook import tqdm\n",
    "# GRID SEARCH RP3BETA\n",
    "best=0\n",
    "config={\n",
    "    \"k\":0,\n",
    "    \"a\":0,\n",
    "    \"b\":0\n",
    "\n",
    "}\n",
    "cutoff_list=[10]\n",
    "from Recommenders.RP3betaCBFRecommender import RP3betaCBFRecommender\n",
    "\n",
    "\n",
    "TopkList=numpy.arange(100, 800, 100)\n",
    "aList=numpy.arange(0.0, 0.3, 0.1)\n",
    "bList=numpy.arange(0.1, 0.9, 0.1)\n",
    "cList=numpy.arange(0.8, 1.4, 0.1)\n",
    "\n",
    "implicit=[True,False]\n",
    "for x in tqdm(itertools.product(aList,bList,cList),total=int(len(aList)*len(bList)*len(cList)), position=0, leave=True):\n",
    "    URM_path2=\"../data/interactions_and_impressions_v4.csv\"\n",
    "    URM_train,URM_train2 ,URM_valid,URM_valid2=Reader.split_train_validation_double(URM_path2=URM_path2,values_to_replace={0.0:x[0],0.01:x[1],1.0:x[2]},vals_to_not_keep=[0.0,0])\n",
    "    rp3betaCBF_recommender = RP3betaRecommender(\n",
    "        URM_train=URM_train2,\n",
    "    )\n",
    "\n",
    "    evaluator_test = EvaluatorHoldout(URM_valid, cutoff_list=cutoff_list)\n",
    "    rp3betaCBF_recommender.fit(topK=680,alpha=0.15\n",
    "                            ,beta=0.45\n",
    "    )\n",
    "\n",
    "    result_df, _ = evaluator_test.evaluateRecommender(rp3betaCBF_recommender)\n",
    "    if result_df[\"MAP\"][10] > best:\n",
    "        best=result_df[\"MAP\"][10]\n",
    "        config={\n",
    "            \"0,0.01,1\":x,\n",
    "        }\n",
    "        #open text file\n",
    "        text_file = open(\"result_experiments/grid_search/KNN.txt\", \"w\")\n",
    "\n",
    "        #write string to file\n",
    "        text_file.write(str(config) +str(best))\n",
    "\n",
    "        #close file\n",
    "        text_file.close()\n",
    "\n",
    "best,config"
   ],
   "metadata": {
    "collapsed": false,
    "pycharm": {
     "is_executing": true
    }
   }
  },
  {
   "cell_type": "code",
   "execution_count": null,
   "outputs": [],
   "source": [
    "best,config"
   ],
   "metadata": {
    "collapsed": false
   }
  },
  {
   "cell_type": "code",
   "execution_count": null,
   "outputs": [],
   "source": [],
   "metadata": {
    "collapsed": false
   }
  }
 ],
 "metadata": {
  "kernelspec": {
   "display_name": "Python 3",
   "language": "python",
   "name": "python3"
  },
  "language_info": {
   "codemirror_mode": {
    "name": "ipython",
    "version": 2
   },
   "file_extension": ".py",
   "mimetype": "text/x-python",
   "name": "python",
   "nbconvert_exporter": "python",
   "pygments_lexer": "ipython2",
   "version": "2.7.6"
  }
 },
 "nbformat": 4,
 "nbformat_minor": 0
}
