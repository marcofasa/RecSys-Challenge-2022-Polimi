{
 "cells": [
  {
   "cell_type": "code",
   "execution_count": 2,
   "outputs": [],
   "source": [
    "import scipy.sparse as sps\n",
    "from Recommenders.Hybrid.ItemUserHybridKNNRecommender import ItemUserHybridKNNRecommender\n",
    "from Utils.Evaluator import EvaluatorHoldout\n",
    "import Utils.Reader as Reader\n",
    "from Data_manager.split_functions.split_train_validation_random_holdout import\\\n",
    "    split_train_in_two_percentage_global_sample"
   ],
   "metadata": {
    "collapsed": false,
    "pycharm": {
     "name": "#%%\n"
    }
   }
  },
  {
   "cell_type": "code",
   "execution_count": 4,
   "outputs": [
    {
     "name": "stdout",
     "output_type": "stream",
     "text": [
      "Number of tags\t 631, Number of item-tag tuples 1051828\n",
      "Unique UserID in the URM are 41629\n",
      "Unique UserID in the URM and ICM are 41629\n",
      "Unique ItemID in the URM are 24507\n",
      "Unique ItemID in the URM and ICM are 24507\n",
      "Unique FeatureID in the URM are 631\n",
      "Warning: 289 (0.69 %) of 41629 users have no sampled items\n",
      "Warning: 766 (1.84 %) of 41629 users have no sampled items\n",
      "EvaluatorHoldout: Ignoring 766 ( 1.8%) Users that have less than 1 test interactions\n",
      "EvaluatorHoldout: Ignoring 289 ( 0.7%) Users that have less than 1 test interactions\n"
     ]
    },
    {
     "data": {
      "text/plain": "<42260x24507 sparse matrix of type '<class 'numpy.float64'>'\n\twith 1075984 stored elements in Compressed Sparse Column format>"
     },
     "execution_count": 4,
     "metadata": {},
     "output_type": "execute_result"
    }
   ],
   "source": [
    "#FACTORIZED SPLIT\n",
    "URM_all,ICM_all=Reader.load_URM_and_ICM_users(\"../data/interactions_and_impressions.csv\",\"../data/rewatches.csv\",ICM_vals_to_not_keep=[0.0],URM_values_to_replace={0:0.2})\n",
    "cutoff_list=[ 10]\n",
    "\n",
    "URM_train, URM_test = split_train_in_two_percentage_global_sample(URM_all, train_percentage = 0.8)\n",
    "URM_train, URM_validation = split_train_in_two_percentage_global_sample(URM_train, train_percentage = 0.8)\n",
    "\n",
    "evaluator_validation = EvaluatorHoldout(URM_validation, cutoff_list=cutoff_list)\n",
    "evaluator_test = EvaluatorHoldout(URM_test, cutoff_list=cutoff_list)\n",
    "'''\n",
    "profile_length = np.ediff1d(URM_all.indptr)\n",
    "block_size = int(len(profile_length)*0.25)\n",
    "\n",
    "start_lower = 0\n",
    "end_lower = 3*block_size\n",
    "end_higher = len(profile_length)\n",
    "sorted_users = np.argsort(profile_length)\n",
    "\n",
    "users_in_lower = set(sorted_users[0:end_lower])\n",
    "'''\n",
    "#ICM_train, ICM_test = split_train_in_two_percentage_global_sample(ICM_all ,train_percentage=0.80)\n",
    "\n",
    "stacked_ICM = Reader.combine(ICM=ICM_all, URM = URM_train)\n",
    "stacked_URM=stacked_ICM.T\n",
    "stacked_URM"
   ],
   "metadata": {
    "collapsed": false,
    "pycharm": {
     "name": "#%%\n"
    }
   }
  },
  {
   "cell_type": "code",
   "execution_count": 6,
   "outputs": [
    {
     "name": "stderr",
     "output_type": "stream",
     "text": [
      "/Users/fasa/PycharmProjects/RecSys-Challenge-2022-Polimi/Utils/metrics.py:276: RuntimeWarning: overflow encountered in power\n",
      "  return np.sum(np.divide(np.power(2, scores) - 1, np.log2(np.arange(scores.shape[0], dtype=np.float64) + 2)),\n",
      "/Users/fasa/PycharmProjects/RecSys-Challenge-2022-Polimi/Utils/metrics.py:270: RuntimeWarning: invalid value encountered in double_scalars\n",
      "  ndcg_ = rank_dcg / ideal_dcg\n"
     ]
    },
    {
     "name": "stdout",
     "output_type": "stream",
     "text": [
      "EvaluatorHoldout: Processed 40863 (100.0%) in 52.14 sec. Users per second: 784\n"
     ]
    },
    {
     "data": {
      "text/plain": "cutoff\n10    0.015569\nName: MAP, dtype: object"
     },
     "execution_count": 6,
     "metadata": {},
     "output_type": "execute_result"
    }
   ],
   "source": [
    "\n",
    "from Recommenders.RP3betaCBFRecommender import RP3betaCBFRecommender\n",
    "\n",
    "rp3betaCBF_recommender = RP3betaCBFRecommender(\n",
    "    URM_train=URM_train,\n",
    "    ICM_train=stacked_ICM,\n",
    "    verbose=False\n",
    ")\n",
    "\n",
    "rp3betaCBF_recommender.fit(\n",
    "    topK=int(529.1628484087545),\n",
    "    alpha=0.45304737831676245,\n",
    "    beta=0.226647894170121,\n",
    "    implicit=False\n",
    ")\n",
    "\n",
    "result_df, _ = evaluator_validation.evaluateRecommender(rp3betaCBF_recommender)\n",
    "result_df[\"MAP\"]\n"
   ],
   "metadata": {
    "collapsed": false,
    "pycharm": {
     "name": "#%%\n"
    }
   }
  },
  {
   "cell_type": "code",
   "execution_count": null,
   "outputs": [],
   "source": [
    "import itertools\n",
    "from tqdm.notebook import tqdm\n",
    "# GRID SEARCH RP3BETA\n",
    "best=0\n",
    "config={\n",
    "    \"k\":0,\n",
    "    \"a\":0,\n",
    "    \"b\":0\n",
    "\n",
    "}\n",
    "from Recommenders.RP3betaCBFRecommender import RP3betaCBFRecommender\n",
    "\n",
    "rp3betaCBF_recommender = RP3betaCBFRecommender(\n",
    "    URM_train=URM_train,\n",
    "    ICM_train=stacked_ICM,\n",
    "    verbose=False\n",
    ")\n",
    "\n",
    "TopkList=[100,125,150,175,200,225,250,275]\n",
    "aList=[0.1,0.125,0.150,0.175,0.2,0.225,0.250,0.275]\n",
    "bList=[0.3,0.325,0.350,0.375,0.4,0.425,0.450,0.475]\n",
    "for x in tqdm(itertools.product(TopkList,aList,bList),total=int(len(TopkList)*len(aList)*len(bList)), position=0, leave=True):\n",
    "    k=x[0]\n",
    "    a=x[1]\n",
    "    b=x[2]\n",
    "    rp3betaCBF_recommender.fit(\n",
    "        topK=k,\n",
    "        alpha=a,\n",
    "        beta=b,\n",
    "        implicit=False\n",
    "    )\n",
    "\n",
    "    result_df, _ = evaluator_validation.evaluateRecommender(rp3betaCBF_recommender)\n",
    "    if result_df[\"MAP\"][10] > best:\n",
    "        best=result_df[\"MAP\"][10]\n",
    "        config={\n",
    "            \"k\":k,\n",
    "            \"a\":a,\n",
    "            \"b\":b\n",
    "        }\n",
    "        print(\"NEW BEST: \"+str(best))\n",
    "        print(\"Config:\"+str(config))\n",
    "\n",
    "best,config"
   ],
   "metadata": {
    "collapsed": false,
    "pycharm": {
     "name": "#%%\n"
    }
   }
  }
 ],
 "metadata": {
  "kernelspec": {
   "display_name": "Python 3",
   "language": "python",
   "name": "python3"
  },
  "language_info": {
   "codemirror_mode": {
    "name": "ipython",
    "version": 2
   },
   "file_extension": ".py",
   "mimetype": "text/x-python",
   "name": "python",
   "nbconvert_exporter": "python",
   "pygments_lexer": "ipython2",
   "version": "2.7.6"
  }
 },
 "nbformat": 4,
 "nbformat_minor": 0
}