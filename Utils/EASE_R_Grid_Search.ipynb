{
 "cells": [
  {
   "cell_type": "code",
   "execution_count": 3,
   "outputs": [],
   "source": [
    "import scipy.sparse as sps\n",
    "from Recommenders.Hybrid.ItemUserHybridKNNRecommender import ItemUserHybridKNNRecommender\n",
    "from Utils.Evaluator import EvaluatorHoldout\n",
    "import Utils.Reader as Reader\n",
    "from Data_manager.split_functions.split_train_validation_random_holdout import\\\n",
    "    split_train_in_two_percentage_global_sample"
   ],
   "metadata": {
    "collapsed": false,
    "pycharm": {
     "name": "#%%\n"
    }
   }
  },
  {
   "cell_type": "code",
   "execution_count": null,
   "outputs": [],
   "source": [
    "from Recommenders.EASE_R.EASE_R_Recommender import EASE_R_Recommender\n",
    "from Recommenders.GraphBased.RP3betaRecommender import RP3betaRecommender\n",
    "#1\n",
    "import numpy\n",
    "import itertools\n",
    "from tqdm.notebook import tqdm\n",
    "# GRID SEARCH RP3BETA\n",
    "best=0\n",
    "config={\n",
    "    \"k\":0,\n",
    "    \"a\":0,\n",
    "    \"b\":0\n",
    "\n",
    "}\n",
    "cutoff_list=[10]\n",
    "from Recommenders.RP3betaCBFRecommender import RP3betaCBFRecommender\n",
    "URM_all=Reader.read_train_csr(values_to_replace={0:0.2})\n",
    "\n",
    "URM_train, URM_test = split_train_in_two_percentage_global_sample(URM_all, train_percentage = 0.8)\n",
    "URM_train, URM_validation = split_train_in_two_percentage_global_sample(URM_train, train_percentage = 0.8)\n",
    "\n",
    "evaluator_validation = EvaluatorHoldout(URM_validation, cutoff_list=cutoff_list)\n",
    "evaluator_test = EvaluatorHoldout(URM_test, cutoff_list=cutoff_list)\n",
    "ease_r = EASE_R_Recommender(\n",
    "    URM_train=URM_train,\n",
    "    verbose=False\n",
    ")\n",
    "\n",
    "TopkList=numpy.arange(100, 800, 50)\n",
    "aList=numpy.arange(1e2, 1e3, 500)\n",
    "for x in tqdm(itertools.product(TopkList,aList),total=int(len(TopkList)*len(aList)), position=0, leave=True):\n",
    "    k=x[0]\n",
    "    a=x[1]\n",
    "    ease_r.fit(\n",
    "        topK=k,\n",
    "        l2_norm=a,\n",
    "    )\n",
    "\n",
    "    result_df, _ = evaluator_validation.evaluateRecommender(ease_r)\n",
    "    if result_df[\"MAP\"][10] > best:\n",
    "        best=result_df[\"MAP\"][10]\n",
    "        config={\n",
    "            \"k\":k,\n",
    "            \"l2\":a,\n",
    "        }\n",
    "        #open text file\n",
    "        text_file = open(\"result_experiments/grid_search/ease_r.txt\", \"w\")\n",
    "\n",
    "        #write string to file\n",
    "        text_file.write(str(config) +str(best))\n",
    "\n",
    "        #close file\n",
    "        text_file.close()\n",
    "\n",
    "best,config"
   ],
   "metadata": {
    "collapsed": false,
    "pycharm": {
     "is_executing": true
    }
   }
  },
  {
   "cell_type": "code",
   "execution_count": null,
   "outputs": [],
   "source": [
    "best,config"
   ],
   "metadata": {
    "collapsed": false,
    "pycharm": {
     "name": "#%%\n"
    }
   }
  },
  {
   "cell_type": "code",
   "execution_count": null,
   "outputs": [],
   "source": [],
   "metadata": {
    "collapsed": false,
    "pycharm": {
     "name": "#%%\n"
    }
   }
  }
 ],
 "metadata": {
  "kernelspec": {
   "display_name": "Python 3",
   "language": "python",
   "name": "python3"
  },
  "language_info": {
   "codemirror_mode": {
    "name": "ipython",
    "version": 2
   },
   "file_extension": ".py",
   "mimetype": "text/x-python",
   "name": "python",
   "nbconvert_exporter": "python",
   "pygments_lexer": "ipython2",
   "version": "2.7.6"
  }
 },
 "nbformat": 4,
 "nbformat_minor": 0
}
