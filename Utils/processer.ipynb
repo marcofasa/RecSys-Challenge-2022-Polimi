{
 "cells": [
  {
   "cell_type": "code",
   "execution_count": 128,
   "metadata": {
    "collapsed": true
   },
   "outputs": [],
   "source": [
    "import numpy as np\n",
    "import pandas as pd  # data processing, CSV file I/O (e.g. pd.read_csv)\n",
    "URM_path=\"../data/interactions_and_impressions.csv\"\n",
    "URM_path2=\"../data/interactions_and_impressions_v4.csv\"\n",
    "URM_all_dataframe = pd.read_csv(filepath_or_buffer=URM_path,\n",
    "                                sep=\",\",\n",
    "                                skiprows=1,\n",
    "                                header=None,\n",
    "                                dtype={0: int, 1: int, 2: str, 3: int},\n",
    "                                engine='python')\n",
    "\n",
    "URM_all_dataframe.columns = [\"UserID\", \"ItemID\", \"others\",\"Data\"]\n",
    "#URM_all_dataframe = URM_all_dataframe.sort_values(by=['UserID', 'ItemID', 'Data'])\n"
   ]
  },
  {
   "cell_type": "code",
   "execution_count": 129,
   "outputs": [],
   "source": [
    "\n",
    "URM_all_dataframe2 = pd.read_csv(URM_path2)\n",
    "URM_all_dataframe2.columns = [\"UserID\", \"ItemID\",\"Data\"]\n",
    "URM_all_dataframe2 = URM_all_dataframe2[URM_all_dataframe2['Data'] != 0.01]\n",
    "#URM_all_dataframe2 = URM_all_dataframe2.sort_values(by=['UserID', 'ItemID', 'Data'])\n"
   ],
   "metadata": {
    "collapsed": false,
    "pycharm": {
     "name": "#%%\n"
    }
   }
  },
  {
   "cell_type": "code",
   "execution_count": 130,
   "outputs": [
    {
     "data": {
      "text/plain": "'\\nall_users=list(URM_all_dataframe[\"UserID\"].unique())\\nnp.random.shuffle(all_users)\\n\\n\\nimport random\\ntrain_percentage=0.8\\nuser_for_training=random.sample(all_users, round(len(all_users)*train_percentage))\\ndata_train2=URM_all_dataframe2[URM_all_dataframe2[\"UserID\"].isin(user_for_training)]\\ndata_train=URM_all_dataframe[URM_all_dataframe[\"UserID\"].isin(user_for_training)]\\ndata_valid=URM_all_dataframe[~URM_all_dataframe[\"UserID\"].isin(user_for_training)]\\ndata_valid2=URM_all_dataframe2[~URM_all_dataframe2[\"UserID\"].isin(user_for_training)]\\n'"
     },
     "execution_count": 130,
     "metadata": {},
     "output_type": "execute_result"
    }
   ],
   "source": [
    "'''\n",
    "all_users=list(URM_all_dataframe[\"UserID\"].unique())\n",
    "np.random.shuffle(all_users)\n",
    "\n",
    "\n",
    "import random\n",
    "train_percentage=0.8\n",
    "user_for_training=random.sample(all_users, round(len(all_users)*train_percentage))\n",
    "data_train2=URM_all_dataframe2[URM_all_dataframe2[\"UserID\"].isin(user_for_training)]\n",
    "data_train=URM_all_dataframe[URM_all_dataframe[\"UserID\"].isin(user_for_training)]\n",
    "data_valid=URM_all_dataframe[~URM_all_dataframe[\"UserID\"].isin(user_for_training)]\n",
    "data_valid2=URM_all_dataframe2[~URM_all_dataframe2[\"UserID\"].isin(user_for_training)]\n",
    "'''"
   ],
   "metadata": {
    "collapsed": false,
    "pycharm": {
     "name": "#%%\n"
    }
   }
  },
  {
   "cell_type": "code",
   "execution_count": 131,
   "outputs": [],
   "source": [
    "all_users_items=list(zip(URM_all_dataframe['UserID'],URM_all_dataframe['ItemID']))\n",
    "np.random.shuffle(all_users_items)\n",
    "\n",
    "\n",
    "import random\n",
    "train_percentage=0.8\n",
    "user_for_training=random.sample(all_users_items, round(len(all_users_items)*train_percentage))\n",
    "user_for_training=pd.DataFrame(user_for_training,columns=[\"UserID\",\"ItemID\"])\n",
    "data_train2 = pd.merge(URM_all_dataframe2,user_for_training.drop_duplicates())\n",
    "data_train = pd.merge(URM_all_dataframe,user_for_training.drop_duplicates())\n",
    "data_valid2=pd.concat([URM_all_dataframe2,data_train2]).drop_duplicates(keep=False)\n",
    "data_valid=pd.concat([URM_all_dataframe,data_train]).drop_duplicates(keep=False)"
   ],
   "metadata": {
    "collapsed": false,
    "pycharm": {
     "name": "#%%\n"
    }
   }
  },
  {
   "cell_type": "code",
   "execution_count": 132,
   "outputs": [
    {
     "data": {
      "text/plain": "5826506"
     },
     "execution_count": 132,
     "metadata": {},
     "output_type": "execute_result"
    }
   ],
   "source": [
    "len(URM_all_dataframe2)"
   ],
   "metadata": {
    "collapsed": false,
    "pycharm": {
     "name": "#%%\n"
    }
   }
  },
  {
   "cell_type": "code",
   "execution_count": 133,
   "outputs": [
    {
     "data": {
      "text/plain": "5826506"
     },
     "execution_count": 133,
     "metadata": {},
     "output_type": "execute_result"
    }
   ],
   "source": [
    "len(URM_all_dataframe)"
   ],
   "metadata": {
    "collapsed": false,
    "pycharm": {
     "name": "#%%\n"
    }
   }
  },
  {
   "cell_type": "code",
   "execution_count": 134,
   "outputs": [
    {
     "data": {
      "text/plain": "(<41629x24507 sparse matrix of type '<class 'numpy.int64'>'\n \twith 1311824 stored elements in Compressed Sparse Row format>,\n <41629x24507 sparse matrix of type '<class 'numpy.float64'>'\n \twith 1311824 stored elements in Compressed Sparse Row format>,\n <41629x24507 sparse matrix of type '<class 'numpy.int64'>'\n \twith 239760 stored elements in Compressed Sparse Row format>,\n <41629x24507 sparse matrix of type '<class 'numpy.float64'>'\n \twith 239413 stored elements in Compressed Sparse Row format>)"
     },
     "execution_count": 134,
     "metadata": {},
     "output_type": "execute_result"
    }
   ],
   "source": [
    "import numpy as np\n",
    "import scipy.sparse as sps\n",
    "\n",
    "\n",
    "URM_train = sps.csr_matrix((data_train[\"Data\"].values,\n",
    "                          (data_train[\"UserID\"].values, data_train[\"ItemID\"].values)))\n",
    "URM_train2 = sps.csr_matrix((data_train2[\"Data\"].values,\n",
    "                          (data_train2[\"UserID\"].values, data_train2[\"ItemID\"].values)))\n",
    "URM_valid = sps.csr_matrix((data_valid[\"Data\"].values,\n",
    "                             (data_valid[\"UserID\"].values, data_valid[\"ItemID\"].values)))\n",
    "URM_valid2 = sps.csr_matrix((data_valid2[\"Data\"].values,\n",
    "                             (data_valid2[\"UserID\"].values, data_valid2[\"ItemID\"].values)))\n",
    "URM_train,URM_train2 ,URM_valid,URM_valid2"
   ],
   "metadata": {
    "collapsed": false,
    "pycharm": {
     "name": "#%%\n"
    }
   }
  },
  {
   "cell_type": "code",
   "execution_count": 141,
   "outputs": [
    {
     "data": {
      "text/plain": "5577989"
     },
     "execution_count": 141,
     "metadata": {},
     "output_type": "execute_result"
    }
   ],
   "source": [
    "len(data_train)"
   ],
   "metadata": {
    "collapsed": false,
    "pycharm": {
     "name": "#%%\n"
    }
   }
  },
  {
   "cell_type": "code",
   "execution_count": 142,
   "outputs": [
    {
     "data": {
      "text/plain": "5577989"
     },
     "execution_count": 142,
     "metadata": {},
     "output_type": "execute_result"
    }
   ],
   "source": [
    "len(data_train2)\n"
   ],
   "metadata": {
    "collapsed": false,
    "pycharm": {
     "name": "#%%\n"
    }
   }
  },
  {
   "cell_type": "code",
   "execution_count": 143,
   "outputs": [
    {
     "data": {
      "text/plain": "241681"
     },
     "execution_count": 143,
     "metadata": {},
     "output_type": "execute_result"
    }
   ],
   "source": [
    "len(data_valid)\n"
   ],
   "metadata": {
    "collapsed": false,
    "pycharm": {
     "name": "#%%\n"
    }
   }
  },
  {
   "cell_type": "code",
   "execution_count": 144,
   "outputs": [
    {
     "data": {
      "text/plain": "240931"
     },
     "execution_count": 144,
     "metadata": {},
     "output_type": "execute_result"
    }
   ],
   "source": [
    "len(data_valid2)\n"
   ],
   "metadata": {
    "collapsed": false,
    "pycharm": {
     "name": "#%%\n"
    }
   }
  },
  {
   "cell_type": "code",
   "execution_count": 151,
   "outputs": [],
   "source": [
    "diff = data_train[data_train.apply(tuple,1).isin(data_train2.apply(tuple,1))]\n"
   ],
   "metadata": {
    "collapsed": false,
    "pycharm": {
     "name": "#%%\n"
    }
   }
  },
  {
   "cell_type": "code",
   "execution_count": 152,
   "outputs": [
    {
     "data": {
      "text/plain": "2052496"
     },
     "execution_count": 152,
     "metadata": {},
     "output_type": "execute_result"
    }
   ],
   "source": [
    "len(diff)"
   ],
   "metadata": {
    "collapsed": false,
    "pycharm": {
     "name": "#%%\n"
    }
   }
  },
  {
   "cell_type": "code",
   "execution_count": 135,
   "outputs": [
    {
     "name": "stdout",
     "output_type": "stream",
     "text": [
      "EvaluatorHoldout: Ignoring 8129 (19.5%) Users that have less than 1 test interactions\n",
      "EvaluatorHoldout: Ignoring 2504 ( 6.0%) Users that have less than 1 test interactions\n"
     ]
    }
   ],
   "source": [
    "from Utils.Evaluator import EvaluatorHoldout\n",
    "\n",
    "evaluator_validation=EvaluatorHoldout(URM_valid,cutoff_list=[10])\n",
    "evaluator_validation2=EvaluatorHoldout(URM_valid2,cutoff_list=[10])\n"
   ],
   "metadata": {
    "collapsed": false,
    "pycharm": {
     "name": "#%%\n"
    }
   }
  },
  {
   "cell_type": "code",
   "execution_count": 136,
   "outputs": [
    {
     "name": "stdout",
     "output_type": "stream",
     "text": [
      "ItemUserHybridKNNRecommender: URM Detected 1 ( 0.0%) users with no interactions.\n",
      "ItemKNNCFRecommender: URM Detected 1 ( 0.0%) users with no interactions.\n",
      "UserKNNCFRecommender: URM Detected 1 ( 0.0%) users with no interactions.\n",
      "Similarity column 24507 (100.0%), 5070.49 column/sec. Elapsed time 4.83 sec\n",
      "Similarity column 41629 (100.0%), 1879.87 column/sec. Elapsed time 22.14 sec\n",
      "[[-0.06986804 -0.2586211  -0.20992817 ... -0.30984303 -0.1801217\n",
      "  -0.29034597]\n",
      " [ 0.2912927   0.16658685  0.5597415  ... -0.11639152 -0.19299506\n",
      "  -0.17611946]\n",
      " [-0.01944898  0.19089526  0.2274145  ... -0.07644556 -0.19516653\n",
      "  -0.23870586]\n",
      " ...\n",
      " [-0.02030004 -0.24388649 -0.15284157 ... -0.30984303  0.03551585\n",
      "  -0.12604082]\n",
      " [-0.30984303 -0.27769318 -0.30984303 ... -0.2732101  -0.30984303\n",
      "  -0.30984303]\n",
      " [ 0.16933116  0.13876402  0.31093055 ... -0.24366897  0.555451\n",
      "  -0.10046581]]\n",
      "[[-0.04634393 -0.03410903  0.00328933 ... -0.04634393 -0.00539218\n",
      "  -0.04634393]\n",
      " [-0.03950318 -0.04634393 -0.00300879 ... -0.03772203 -0.03435209\n",
      "  -0.04634393]\n",
      " [-0.02418454 -0.02506822 -0.00875483 ... -0.02129076 -0.04634393\n",
      "  -0.04634393]\n",
      " ...\n",
      " [ 0.03441703 -0.04634393 -0.00803314 ... -0.04634393  0.02772846\n",
      "  -0.04634393]\n",
      " [-0.04634393 -0.03602517 -0.04634393 ... -0.04634393 -0.04634393\n",
      "  -0.04634393]\n",
      " [-0.03591658 -0.01524315 -0.03323643 ... -0.04634393  0.01500674\n",
      "   0.00817193]]\n",
      "[[-0.38617706 -0.28341576 -0.21498996 ... -0.34943554 -0.38617706\n",
      "  -0.38617706]\n",
      " [-0.34374443 -0.2566957  -0.3630965  ... -0.38617706 -0.38617706\n",
      "  -0.24848251]\n",
      " [ 0.853727    0.18788524  0.04327916 ... -0.38617706 -0.07813133\n",
      "   0.72942233]\n",
      " ...\n",
      " [-0.00941485  0.15519407 -0.09773105 ... -0.23454584 -0.38617706\n",
      "  -0.38617706]\n",
      " [-0.38617706 -0.33202437 -0.36359134 ... -0.38617706 -0.38617706\n",
      "  -0.38617706]\n",
      " [-0.38617706 -0.28209773 -0.3498586  ... -0.38617706 -0.38617706\n",
      "  -0.38617706]]\n",
      "[[-0.04791578 -0.04791578 -0.04791578 ... -0.04791578 -0.04791578\n",
      "  -0.04791578]\n",
      " [-0.04791578 -0.02541544 -0.04791578 ... -0.04791578 -0.04791578\n",
      "  -0.04175199]\n",
      " [-0.02953777 -0.04335289 -0.02866215 ... -0.04791578 -0.04791578\n",
      "  -0.03139356]\n",
      " ...\n",
      " [-0.04791578 -0.02645169 -0.04149978 ... -0.04028736 -0.04791578\n",
      "  -0.04791578]\n",
      " [-0.04791578 -0.023858   -0.04791578 ... -0.04791578 -0.04791578\n",
      "  -0.04791578]\n",
      " [-0.04791578 -0.04791578 -0.04791578 ... -0.04791578 -0.04791578\n",
      "  -0.04791578]]\n",
      "[[-0.2423299  -0.2108303  -0.05846402 ... -0.37546593 -0.18242343\n",
      "  -0.10378248]\n",
      " [ 0.18706356  0.3255586   0.28124243 ... -0.30447093  0.07529059\n",
      "   0.06607884]\n",
      " [-0.11103576  0.43860057 -0.10878405 ... -0.22608499 -0.2021063\n",
      "  -0.09197426]\n",
      " ...\n",
      " [ 0.43342468  0.3490585   0.49177518 ... -0.35300225  0.5600754\n",
      "  -0.2735255 ]\n",
      " [ 0.08554099 -0.06966797  0.11121892 ... -0.39252326 -0.03463105\n",
      "  -0.05322896]\n",
      " [-0.36978352 -0.23488718 -0.3239382  ... -0.39252326 -0.34000975\n",
      "  -0.3480338 ]]\n",
      "[[-0.04700029 -0.04700029 -0.04700029 ... -0.04700029 -0.04700029\n",
      "  -0.04357898]\n",
      " [-0.04700029 -0.01747233  0.01029214 ... -0.04700029 -0.01229637\n",
      "  -0.02106023]\n",
      " [-0.03251889  0.05962043 -0.0161912  ... -0.03243235 -0.02439725\n",
      "  -0.02635487]\n",
      " ...\n",
      " [-0.04700029 -0.04283645 -0.02582778 ... -0.04700029 -0.04700029\n",
      "  -0.04700029]\n",
      " [-0.04401908 -0.04700029 -0.03108421 ... -0.04700029 -0.04700029\n",
      "  -0.04700029]\n",
      " [-0.04700029  0.02183004 -0.01955899 ... -0.04700029 -0.03126584\n",
      "  -0.03548166]]\n",
      "[[-0.19851847 -0.3046992  -0.13416699 ... -0.3777603  -0.31177354\n",
      "  -0.3665916 ]\n",
      " [ 0.25840595  0.7601381   0.33935726 ... -0.20190068 -0.1668056\n",
      "   0.00119699]\n",
      " [-0.32277188 -0.3777603  -0.26794237 ... -0.31285888 -0.3777603\n",
      "  -0.14070708]\n",
      " ...\n",
      " [-0.03633309  0.01816806  0.11695056 ... -0.2929055  -0.3053287\n",
      "  -0.25343457]\n",
      " [-0.32482445 -0.18364649  0.10608278 ... -0.3777603  -0.3297972\n",
      "  -0.3777603 ]\n",
      " [-0.3777603  -0.3777603  -0.3777603  ... -0.3777603  -0.3777603\n",
      "  -0.3777603 ]]\n",
      "[[-0.02889894 -0.04865833 -0.02759498 ... -0.04865833 -0.02592505\n",
      "  -0.04865833]\n",
      " [-0.04250872  0.00605929 -0.02709012 ... -0.04865833 -0.03786328\n",
      "  -0.04865833]\n",
      " [-0.04865833 -0.04865833 -0.04865833 ... -0.04865833 -0.04865833\n",
      "  -0.04865833]\n",
      " ...\n",
      " [-0.03233298  0.01226994 -0.0187248  ... -0.01819281 -0.04865833\n",
      "  -0.04865833]\n",
      " [-0.04865833 -0.04293716 -0.04865833 ... -0.04865833 -0.04865833\n",
      "  -0.04865833]\n",
      " [-0.04865833 -0.04865833 -0.04865833 ... -0.04865833 -0.04865833\n",
      "  -0.04865833]]\n",
      "[[ 3.4428242e-01  1.9492808e-01  4.3116045e-01 ... -3.3872369e-01\n",
      "  -3.6021876e-01  5.1428780e-02]\n",
      " [ 6.1039966e-01  7.4825072e-01  6.0116518e-01 ... -3.1548932e-01\n",
      "   7.1727598e-01 -1.2277543e-01]\n",
      " [-3.8953489e-01 -3.4438533e-01 -3.6081538e-01 ... -4.7692587e-04\n",
      "  -3.8953489e-01 -3.8953489e-01]\n",
      " ...\n",
      " [-5.6248460e-02  4.9623605e-02 -1.1712802e-01 ... -3.8953489e-01\n",
      "  -1.4436965e-01 -3.8953489e-01]\n",
      " [ 8.1692621e-02  6.5127835e-02 -1.1439779e-01 ... -3.8227275e-01\n",
      "  -9.2644617e-02 -1.6010194e-01]\n",
      " [-2.5415393e-02 -7.5802304e-02 -2.3820154e-01 ... -3.1568038e-01\n",
      "  -3.8953489e-01 -3.8953489e-01]]\n",
      "[[-0.04742999 -0.03906341 -0.04742999 ... -0.04742999 -0.04742999\n",
      "  -0.0347579 ]\n",
      " [ 0.02104298  0.0258228  -0.03037929 ... -0.04742999 -0.00208144\n",
      "  -0.045212  ]\n",
      " [-0.04742999 -0.04242079 -0.04742999 ... -0.03407468 -0.04742999\n",
      "  -0.04742999]\n",
      " ...\n",
      " [-0.04148318 -0.02193466 -0.03378454 ... -0.04742999 -0.04742999\n",
      "  -0.04742999]\n",
      " [-0.01314073 -0.04742999 -0.04457143 ... -0.04742999 -0.04742999\n",
      "  -0.03555561]\n",
      " [-0.04046784 -0.02430391 -0.04742999 ... -0.03634173 -0.04742999\n",
      "  -0.04742999]]\n",
      "[[-0.1464598  -0.22857437 -0.34644765 ... -0.3789412  -0.33121657\n",
      "  -0.33844656]\n",
      " [-0.08814245 -0.19275978  0.44313827 ... -0.3789412  -0.13255896\n",
      "  -0.3789412 ]\n",
      " [-0.3789412  -0.26330274 -0.3789412  ... -0.3789412  -0.3789412\n",
      "  -0.3789412 ]\n",
      " ...\n",
      " [ 0.0396347   0.12139028 -0.18607192 ... -0.3372484  -0.36086276\n",
      "   0.28033215]\n",
      " [ 0.1664974  -0.06665463  0.07167316 ... -0.29480594  0.06040961\n",
      "  -0.31419754]\n",
      " [-0.06041406  0.28999186  0.12144854 ... -0.25980625 -0.07581009\n",
      "   0.29766515]]\n",
      "[[-0.02985914 -0.0357951  -0.0464325  ... -0.0464325  -0.0464325\n",
      "  -0.0464325 ]\n",
      " [-0.0464325  -0.01009523  0.03636574 ... -0.0464325  -0.03514928\n",
      "  -0.0464325 ]\n",
      " [-0.0464325  -0.03246546 -0.0464325  ... -0.0464325  -0.0464325\n",
      "  -0.0464325 ]\n",
      " ...\n",
      " [-0.0464325  -0.0464325  -0.04531495 ... -0.0464325  -0.0464325\n",
      "  -0.0464325 ]\n",
      " [-0.01950369 -0.02022519  0.00694229 ... -0.03233005 -0.00766252\n",
      "  -0.0464325 ]\n",
      " [-0.0464325  -0.00553537 -0.03634441 ... -0.01452836 -0.01848636\n",
      "  -0.00705774]]\n",
      "[[-0.07627013 -0.2445357  -0.02308439 ... -0.3543788  -0.26122546\n",
      "  -0.13398127]\n",
      " [ 0.2323743   0.69664425  0.20447253 ... -0.0467969  -0.29239312\n",
      "  -0.1820931 ]\n",
      " [-0.21743974 -0.12966391  0.15678602 ... -0.3234313  -0.30572897\n",
      "  -0.29075828]\n",
      " ...\n",
      " [-0.14468753 -0.32877308 -0.2181029  ... -0.3543788  -0.26888093\n",
      "  -0.3333136 ]\n",
      " [-0.22760162 -0.17090234 -0.24936663 ... -0.24145909 -0.3543788\n",
      "  -0.32518768]\n",
      " [ 0.16889052  1.6265619  -0.3543788  ...  0.5241447   0.04418976\n",
      "  -0.32293358]]\n",
      "[[-0.04617014 -0.04617014 -0.04617014 ... -0.04617014 -0.04617014\n",
      "  -0.03618682]\n",
      " [-0.01010209  0.01150998 -0.0410645  ... -0.03063009 -0.04617014\n",
      "  -0.04335409]\n",
      " [-0.04617014 -0.04076208  0.00823883 ... -0.04617014 -0.04617014\n",
      "  -0.04617014]\n",
      " ...\n",
      " [-0.0233388  -0.03100487 -0.01368721 ... -0.04617014 -0.01242682\n",
      "  -0.04617014]\n",
      " [-0.04617014 -0.03255772 -0.04617014 ... -0.03070759 -0.04617014\n",
      "  -0.04617014]\n",
      " [ 0.02321547  0.11431322 -0.04617014 ...  0.05676848  0.01393712\n",
      "  -0.04617014]]\n",
      "[[ 1.1895785   0.75970453  0.6083427  ... -0.15671466  0.17751119\n",
      "  -0.19191119]\n",
      " [-0.09268144 -0.2142942  -0.34719494 ...  0.25102714 -0.2890264\n",
      "  -0.18617906]\n",
      " [ 0.41450584  0.01920619  0.47903308 ... -0.313799    0.18435723\n",
      "  -0.13012575]\n",
      " ...\n",
      " [-0.38269156 -0.38269156 -0.28566667 ... -0.38269156 -0.38269156\n",
      "  -0.38269156]\n",
      " [-0.3202273  -0.33618996 -0.21234281 ... -0.38269156 -0.2649247\n",
      "  -0.38269156]\n",
      " [ 0.02360761 -0.11582882  0.00485557 ... -0.30562454  0.2453405\n",
      "   0.07447217]]\n",
      "[[ 0.03285249 -0.00959665 -0.02005015 ... -0.02824328 -0.02542589\n",
      "  -0.04372137]\n",
      " [-0.01526633 -0.04770172 -0.04770172 ...  0.00467854 -0.04770172\n",
      "  -0.04274154]\n",
      " [-0.01628603  0.00234779  0.02097559 ... -0.02912753 -0.00374005\n",
      "  -0.04770172]\n",
      " ...\n",
      " [-0.04770172 -0.04770172 -0.04770172 ... -0.04770172 -0.04770172\n",
      "  -0.04770172]\n",
      " [-0.04770172 -0.04770172 -0.02274678 ... -0.04770172 -0.01527182\n",
      "  -0.04770172]\n",
      " [-0.02756546 -0.03213009 -0.04770172 ... -0.03434281 -0.04770172\n",
      "  -0.03816179]]\n",
      "[[-0.21380691 -0.1180384   0.03486633 ... -0.3565132  -0.15577206\n",
      "  -0.32306987]\n",
      " [-0.21689658 -0.02809057 -0.11168293 ...  0.7450348  -0.2871464\n",
      "  -0.20473483]\n",
      " [ 0.11035031  0.40600714  0.02251921 ... -0.3366466  -0.13884014\n",
      "  -0.38879052]\n",
      " ...\n",
      " [-0.32303038 -0.28222424 -0.38879052 ... -0.38879052 -0.38879052\n",
      "  -0.22549984]\n",
      " [-0.34643066 -0.2933041  -0.38879052 ... -0.38879052 -0.38879052\n",
      "  -0.38879052]\n",
      " [ 0.11943491 -0.01518663  0.38299808 ... -0.33131093 -0.04359098\n",
      "  -0.0856043 ]]\n",
      "[[-0.04682016 -0.04682016  0.02358937 ... -0.04682016 -0.04682016\n",
      "  -0.04682016]\n",
      " [-0.01546034 -0.04682016 -0.04682016 ...  0.01976612 -0.04682016\n",
      "  -0.04352137]\n",
      " [-0.00070674  0.0045603  -0.04682016 ... -0.02893234 -0.04682016\n",
      "  -0.04682016]\n",
      " ...\n",
      " [-0.04682016 -0.04682016 -0.04682016 ... -0.04682016 -0.04682016\n",
      "  -0.02276414]\n",
      " [-0.01257999 -0.02022984 -0.04682016 ... -0.04682016 -0.04682016\n",
      "  -0.04682016]\n",
      " [-0.03515358 -0.04682016  0.02646613 ... -0.04682016 -0.04682016\n",
      "   0.0029274 ]]\n",
      "[[ 0.34946048 -0.11863996  0.3814138  ... -0.30219766 -0.20261446\n",
      "  -0.10910006]\n",
      " [-0.40927273 -0.26197845 -0.40927273 ... -0.34349474 -0.40927273\n",
      "  -0.40927273]\n",
      " [-0.3672429  -0.3357177  -0.40927273 ... -0.40927273 -0.29293478\n",
      "  -0.113968  ]\n",
      " ...\n",
      " [-0.10441484  0.24764666 -0.2646642  ... -0.38341883 -0.21007465\n",
      "   0.19703269]\n",
      " [-0.32641307 -0.13815995 -0.11040848 ... -0.35397163 -0.40927273\n",
      "  -0.40927273]\n",
      " [-0.12207558 -0.22726607 -0.2887294  ... -0.2914391  -0.40927273\n",
      "  -0.40927273]]\n",
      "[[-0.03729253 -0.04766658 -0.02544129 ... -0.04766658 -0.03702778\n",
      "  -0.04766658]\n",
      " [-0.04766658 -0.04245989 -0.04766658 ... -0.04766658 -0.04766658\n",
      "  -0.04766658]\n",
      " [-0.04087875 -0.04766658 -0.04766658 ... -0.04766658 -0.04766658\n",
      "   0.00078905]\n",
      " ...\n",
      " [-0.04766658  0.00025569 -0.04766658 ... -0.04766658 -0.02707057\n",
      "  -0.03120714]\n",
      " [-0.04766658 -0.0150665  -0.04766658 ... -0.04766658 -0.04766658\n",
      "  -0.04766658]\n",
      " [-0.04221966 -0.04198182 -0.04168644 ... -0.03767392 -0.04766658\n",
      "  -0.04766658]]\n",
      "[[-0.37433976 -0.37433976 -0.37433976 ... -0.37433976 -0.37433976\n",
      "  -0.37433976]\n",
      " [ 0.5151437  -0.08335906  0.3006286  ... -0.33648673 -0.15970628\n",
      "  -0.11700231]\n",
      " [-0.30706754 -0.17420772 -0.28438443 ... -0.37433976 -0.37433976\n",
      "  -0.37433976]\n",
      " ...\n",
      " [-0.05410617  0.0729148   0.10406858 ... -0.3578722  -0.24296503\n",
      "  -0.37433976]\n",
      " [-0.17909765 -0.18555416 -0.37433976 ... -0.35497865 -0.37433976\n",
      "  -0.11364407]\n",
      " [ 1.1507757   1.2053744   0.7660341  ... -0.03650178  0.18581478\n",
      "  -0.14812109]]\n",
      "[[-0.04658963 -0.04658963 -0.04658963 ... -0.04658963 -0.04658963\n",
      "  -0.04658963]\n",
      " [-0.03801449 -0.04658963 -0.02418462 ... -0.03958848 -0.04297347\n",
      "  -0.03222416]\n",
      " [-0.03282678 -0.04658963 -0.04658963 ... -0.04658963 -0.04658963\n",
      "  -0.04658963]\n",
      " ...\n",
      " [-0.04658963 -0.0097408  -0.04658963 ... -0.04658963 -0.04658963\n",
      "  -0.04658963]\n",
      " [-0.04658963 -0.03664529 -0.04658963 ... -0.04658963 -0.04658963\n",
      "  -0.0317823 ]\n",
      " [-0.03065949 -0.04229155 -0.04658963 ... -0.04658963 -0.04658963\n",
      "  -0.04658963]]\n"
     ]
    },
    {
     "ename": "KeyboardInterrupt",
     "evalue": "",
     "output_type": "error",
     "traceback": [
      "\u001B[0;31m---------------------------------------------------------------------------\u001B[0m",
      "\u001B[0;31mKeyboardInterrupt\u001B[0m                         Traceback (most recent call last)",
      "\u001B[0;32m/var/folders/fv/ckspmkyx14g_h7sv41m5pjj80000gn/T/ipykernel_3681/3030101794.py\u001B[0m in \u001B[0;36m<cell line: 8>\u001B[0;34m()\u001B[0m\n\u001B[1;32m      6\u001B[0m \u001B[0mrecommender_ItemKNNCFCBF\u001B[0m\u001B[0;34m.\u001B[0m\u001B[0mfit\u001B[0m\u001B[0;34m(\u001B[0m\u001B[0;34m)\u001B[0m\u001B[0;34m\u001B[0m\u001B[0;34m\u001B[0m\u001B[0m\n\u001B[1;32m      7\u001B[0m \u001B[0;34m\u001B[0m\u001B[0m\n\u001B[0;32m----> 8\u001B[0;31m \u001B[0mresult_df\u001B[0m\u001B[0;34m,\u001B[0m \u001B[0m_\u001B[0m \u001B[0;34m=\u001B[0m \u001B[0mevaluator_validation\u001B[0m\u001B[0;34m.\u001B[0m\u001B[0mevaluateRecommender\u001B[0m\u001B[0;34m(\u001B[0m\u001B[0mrecommender_ItemKNNCFCBF\u001B[0m\u001B[0;34m)\u001B[0m\u001B[0;34m\u001B[0m\u001B[0;34m\u001B[0m\u001B[0m\n\u001B[0m\u001B[1;32m      9\u001B[0m \u001B[0mresult_df\u001B[0m\u001B[0;34m\u001B[0m\u001B[0;34m\u001B[0m\u001B[0m\n",
      "\u001B[0;32m~/PycharmProjects/RecSys-Challenge-2022-Polimi/Utils/Evaluator.py\u001B[0m in \u001B[0;36mevaluateRecommender\u001B[0;34m(self, recommender_object)\u001B[0m\n\u001B[1;32m    274\u001B[0m         \u001B[0mself\u001B[0m\u001B[0;34m.\u001B[0m\u001B[0m_n_users_evaluated\u001B[0m \u001B[0;34m=\u001B[0m \u001B[0;36m0\u001B[0m\u001B[0;34m\u001B[0m\u001B[0;34m\u001B[0m\u001B[0m\n\u001B[1;32m    275\u001B[0m \u001B[0;34m\u001B[0m\u001B[0m\n\u001B[0;32m--> 276\u001B[0;31m         \u001B[0mresults_dict\u001B[0m \u001B[0;34m=\u001B[0m \u001B[0mself\u001B[0m\u001B[0;34m.\u001B[0m\u001B[0m_run_evaluation_on_selected_users\u001B[0m\u001B[0;34m(\u001B[0m\u001B[0mself\u001B[0m\u001B[0;34m.\u001B[0m\u001B[0misRanking\u001B[0m\u001B[0;34m,\u001B[0m\u001B[0mrecommender_object\u001B[0m\u001B[0;34m,\u001B[0m \u001B[0mself\u001B[0m\u001B[0;34m.\u001B[0m\u001B[0musers_to_evaluate\u001B[0m\u001B[0;34m)\u001B[0m\u001B[0;34m\u001B[0m\u001B[0;34m\u001B[0m\u001B[0m\n\u001B[0m\u001B[1;32m    277\u001B[0m \u001B[0;34m\u001B[0m\u001B[0m\n\u001B[1;32m    278\u001B[0m \u001B[0;34m\u001B[0m\u001B[0m\n",
      "\u001B[0;32m~/PycharmProjects/RecSys-Challenge-2022-Polimi/Utils/Evaluator.py\u001B[0m in \u001B[0;36m_run_evaluation_on_selected_users\u001B[0;34m(self, isRanking, recommender_object, users_to_evaluate, block_size)\u001B[0m\n\u001B[1;32m    476\u001B[0m \u001B[0;34m\u001B[0m\u001B[0m\n\u001B[1;32m    477\u001B[0m \u001B[0;34m\u001B[0m\u001B[0m\n\u001B[0;32m--> 478\u001B[0;31m             recommended_items_batch_list, scores_batch = recommender_object.recommend(test_user_batch_array,\n\u001B[0m\u001B[1;32m    479\u001B[0m                                                                               \u001B[0mremove_seen_flag\u001B[0m\u001B[0;34m=\u001B[0m\u001B[0mself\u001B[0m\u001B[0;34m.\u001B[0m\u001B[0mexclude_seen\u001B[0m\u001B[0;34m,\u001B[0m\u001B[0;34m\u001B[0m\u001B[0;34m\u001B[0m\u001B[0m\n\u001B[1;32m    480\u001B[0m                                                                               \u001B[0mcutoff\u001B[0m \u001B[0;34m=\u001B[0m \u001B[0mself\u001B[0m\u001B[0;34m.\u001B[0m\u001B[0mmax_cutoff\u001B[0m\u001B[0;34m,\u001B[0m\u001B[0;34m\u001B[0m\u001B[0;34m\u001B[0m\u001B[0m\n",
      "\u001B[0;32m~/PycharmProjects/RecSys-Challenge-2022-Polimi/Recommenders/BaseRecommender.py\u001B[0m in \u001B[0;36mrecommend\u001B[0;34m(self, user_id_array, cutoff, remove_seen_flag, items_to_compute, remove_top_pop_flag, remove_custom_items_flag, return_scores)\u001B[0m\n\u001B[1;32m    145\u001B[0m         \u001B[0;31m# Compute the scores using the model-specific function\u001B[0m\u001B[0;34m\u001B[0m\u001B[0;34m\u001B[0m\u001B[0;34m\u001B[0m\u001B[0m\n\u001B[1;32m    146\u001B[0m         \u001B[0;31m# Vectorize over all users in user_id_array\u001B[0m\u001B[0;34m\u001B[0m\u001B[0;34m\u001B[0m\u001B[0;34m\u001B[0m\u001B[0m\n\u001B[0;32m--> 147\u001B[0;31m         \u001B[0mscores_batch\u001B[0m \u001B[0;34m=\u001B[0m \u001B[0mself\u001B[0m\u001B[0;34m.\u001B[0m\u001B[0m_compute_item_score\u001B[0m\u001B[0;34m(\u001B[0m\u001B[0muser_id_array\u001B[0m\u001B[0;34m,\u001B[0m \u001B[0mitems_to_compute\u001B[0m\u001B[0;34m=\u001B[0m\u001B[0mitems_to_compute\u001B[0m\u001B[0;34m)\u001B[0m\u001B[0;34m\u001B[0m\u001B[0;34m\u001B[0m\u001B[0m\n\u001B[0m\u001B[1;32m    148\u001B[0m \u001B[0;34m\u001B[0m\u001B[0m\n\u001B[1;32m    149\u001B[0m \u001B[0;34m\u001B[0m\u001B[0m\n",
      "\u001B[0;32m~/PycharmProjects/RecSys-Challenge-2022-Polimi/Recommenders/Hybrid/ItemUserHybridKNNRecommender.py\u001B[0m in \u001B[0;36m_compute_item_score\u001B[0;34m(self, user_id_array, items_to_compute)\u001B[0m\n\u001B[1;32m     40\u001B[0m     \u001B[0;32mdef\u001B[0m \u001B[0m_compute_item_score\u001B[0m\u001B[0;34m(\u001B[0m\u001B[0mself\u001B[0m\u001B[0;34m,\u001B[0m \u001B[0muser_id_array\u001B[0m\u001B[0;34m,\u001B[0m \u001B[0mitems_to_compute\u001B[0m\u001B[0;34m=\u001B[0m\u001B[0;32mNone\u001B[0m\u001B[0;34m)\u001B[0m\u001B[0;34m:\u001B[0m\u001B[0;34m\u001B[0m\u001B[0;34m\u001B[0m\u001B[0m\n\u001B[1;32m     41\u001B[0m         \u001B[0mitem_scores1\u001B[0m \u001B[0;34m=\u001B[0m \u001B[0mself\u001B[0m\u001B[0;34m.\u001B[0m\u001B[0mitemKNNCF\u001B[0m\u001B[0;34m.\u001B[0m\u001B[0m_compute_item_score\u001B[0m\u001B[0;34m(\u001B[0m\u001B[0muser_id_array\u001B[0m\u001B[0;34m,\u001B[0m \u001B[0mitems_to_compute\u001B[0m\u001B[0;34m)\u001B[0m\u001B[0;34m\u001B[0m\u001B[0;34m\u001B[0m\u001B[0m\n\u001B[0;32m---> 42\u001B[0;31m         \u001B[0mitem_scores2\u001B[0m \u001B[0;34m=\u001B[0m \u001B[0mself\u001B[0m\u001B[0;34m.\u001B[0m\u001B[0mUserKNN\u001B[0m\u001B[0;34m.\u001B[0m\u001B[0m_compute_item_score\u001B[0m\u001B[0;34m(\u001B[0m\u001B[0muser_id_array\u001B[0m\u001B[0;34m,\u001B[0m \u001B[0mitems_to_compute\u001B[0m\u001B[0;34m)\u001B[0m\u001B[0;34m\u001B[0m\u001B[0;34m\u001B[0m\u001B[0m\n\u001B[0m\u001B[1;32m     43\u001B[0m \u001B[0;34m\u001B[0m\u001B[0m\n\u001B[1;32m     44\u001B[0m         \u001B[0;32mif\u001B[0m \u001B[0mself\u001B[0m\u001B[0;34m.\u001B[0m\u001B[0mnorm_scores\u001B[0m\u001B[0;34m:\u001B[0m\u001B[0;34m\u001B[0m\u001B[0;34m\u001B[0m\u001B[0m\n",
      "\u001B[0;32m~/PycharmProjects/RecSys-Challenge-2022-Polimi/Recommenders/BaseSimilarityMatrixRecommender.py\u001B[0m in \u001B[0;36m_compute_item_score\u001B[0;34m(self, user_id_array, items_to_compute)\u001B[0m\n\u001B[1;32m    112\u001B[0m             \u001B[0mitem_scores\u001B[0m\u001B[0;34m[\u001B[0m\u001B[0;34m:\u001B[0m\u001B[0;34m,\u001B[0m \u001B[0mitems_to_compute\u001B[0m\u001B[0;34m]\u001B[0m \u001B[0;34m=\u001B[0m \u001B[0mitem_scores_all\u001B[0m\u001B[0;34m[\u001B[0m\u001B[0;34m:\u001B[0m\u001B[0;34m,\u001B[0m \u001B[0mitems_to_compute\u001B[0m\u001B[0;34m]\u001B[0m\u001B[0;34m\u001B[0m\u001B[0;34m\u001B[0m\u001B[0m\n\u001B[1;32m    113\u001B[0m         \u001B[0;32melse\u001B[0m\u001B[0;34m:\u001B[0m\u001B[0;34m\u001B[0m\u001B[0;34m\u001B[0m\u001B[0m\n\u001B[0;32m--> 114\u001B[0;31m             \u001B[0mitem_scores\u001B[0m \u001B[0;34m=\u001B[0m \u001B[0muser_weights_array\u001B[0m\u001B[0;34m.\u001B[0m\u001B[0mdot\u001B[0m\u001B[0;34m(\u001B[0m\u001B[0mself\u001B[0m\u001B[0;34m.\u001B[0m\u001B[0mURM_train\u001B[0m\u001B[0;34m)\u001B[0m\u001B[0;34m.\u001B[0m\u001B[0mtoarray\u001B[0m\u001B[0;34m(\u001B[0m\u001B[0;34m)\u001B[0m\u001B[0;34m\u001B[0m\u001B[0;34m\u001B[0m\u001B[0m\n\u001B[0m\u001B[1;32m    115\u001B[0m \u001B[0;34m\u001B[0m\u001B[0m\n\u001B[1;32m    116\u001B[0m         \u001B[0;32mreturn\u001B[0m \u001B[0mitem_scores\u001B[0m\u001B[0;34m\u001B[0m\u001B[0;34m\u001B[0m\u001B[0m\n",
      "\u001B[0;32m~/opt/anaconda3/envs/RecSysFramework/lib/python3.8/site-packages/scipy/sparse/_base.py\u001B[0m in \u001B[0;36mdot\u001B[0;34m(self, other)\u001B[0m\n\u001B[1;32m    414\u001B[0m             \u001B[0;32mreturn\u001B[0m \u001B[0mself\u001B[0m \u001B[0;34m*\u001B[0m \u001B[0mother\u001B[0m\u001B[0;34m\u001B[0m\u001B[0;34m\u001B[0m\u001B[0m\n\u001B[1;32m    415\u001B[0m         \u001B[0;32melse\u001B[0m\u001B[0;34m:\u001B[0m\u001B[0;34m\u001B[0m\u001B[0;34m\u001B[0m\u001B[0m\n\u001B[0;32m--> 416\u001B[0;31m             \u001B[0;32mreturn\u001B[0m \u001B[0mself\u001B[0m \u001B[0;34m@\u001B[0m \u001B[0mother\u001B[0m\u001B[0;34m\u001B[0m\u001B[0;34m\u001B[0m\u001B[0m\n\u001B[0m\u001B[1;32m    417\u001B[0m \u001B[0;34m\u001B[0m\u001B[0m\n\u001B[1;32m    418\u001B[0m     \u001B[0;32mdef\u001B[0m \u001B[0mpower\u001B[0m\u001B[0;34m(\u001B[0m\u001B[0mself\u001B[0m\u001B[0;34m,\u001B[0m \u001B[0mn\u001B[0m\u001B[0;34m,\u001B[0m \u001B[0mdtype\u001B[0m\u001B[0;34m=\u001B[0m\u001B[0;32mNone\u001B[0m\u001B[0;34m)\u001B[0m\u001B[0;34m:\u001B[0m\u001B[0;34m\u001B[0m\u001B[0;34m\u001B[0m\u001B[0m\n",
      "\u001B[0;32m~/opt/anaconda3/envs/RecSysFramework/lib/python3.8/site-packages/scipy/sparse/_base.py\u001B[0m in \u001B[0;36m__matmul__\u001B[0;34m(self, other)\u001B[0m\n\u001B[1;32m    628\u001B[0m             raise ValueError(\"Scalar operands are not allowed, \"\n\u001B[1;32m    629\u001B[0m                              \"use '*' instead\")\n\u001B[0;32m--> 630\u001B[0;31m         \u001B[0;32mreturn\u001B[0m \u001B[0mself\u001B[0m\u001B[0;34m.\u001B[0m\u001B[0m_mul_dispatch\u001B[0m\u001B[0;34m(\u001B[0m\u001B[0mother\u001B[0m\u001B[0;34m)\u001B[0m\u001B[0;34m\u001B[0m\u001B[0;34m\u001B[0m\u001B[0m\n\u001B[0m\u001B[1;32m    631\u001B[0m \u001B[0;34m\u001B[0m\u001B[0m\n\u001B[1;32m    632\u001B[0m     \u001B[0;32mdef\u001B[0m \u001B[0m__rmatmul__\u001B[0m\u001B[0;34m(\u001B[0m\u001B[0mself\u001B[0m\u001B[0;34m,\u001B[0m \u001B[0mother\u001B[0m\u001B[0;34m)\u001B[0m\u001B[0;34m:\u001B[0m\u001B[0;34m\u001B[0m\u001B[0;34m\u001B[0m\u001B[0m\n",
      "\u001B[0;32m~/opt/anaconda3/envs/RecSysFramework/lib/python3.8/site-packages/scipy/sparse/_base.py\u001B[0m in \u001B[0;36m_mul_dispatch\u001B[0;34m(self, other)\u001B[0m\n\u001B[1;32m    539\u001B[0m             \u001B[0;32mif\u001B[0m \u001B[0mself\u001B[0m\u001B[0;34m.\u001B[0m\u001B[0mshape\u001B[0m\u001B[0;34m[\u001B[0m\u001B[0;36m1\u001B[0m\u001B[0;34m]\u001B[0m \u001B[0;34m!=\u001B[0m \u001B[0mother\u001B[0m\u001B[0;34m.\u001B[0m\u001B[0mshape\u001B[0m\u001B[0;34m[\u001B[0m\u001B[0;36m0\u001B[0m\u001B[0;34m]\u001B[0m\u001B[0;34m:\u001B[0m\u001B[0;34m\u001B[0m\u001B[0;34m\u001B[0m\u001B[0m\n\u001B[1;32m    540\u001B[0m                 \u001B[0;32mraise\u001B[0m \u001B[0mValueError\u001B[0m\u001B[0;34m(\u001B[0m\u001B[0;34m'dimension mismatch'\u001B[0m\u001B[0;34m)\u001B[0m\u001B[0;34m\u001B[0m\u001B[0;34m\u001B[0m\u001B[0m\n\u001B[0;32m--> 541\u001B[0;31m             \u001B[0;32mreturn\u001B[0m \u001B[0mself\u001B[0m\u001B[0;34m.\u001B[0m\u001B[0m_mul_sparse_matrix\u001B[0m\u001B[0;34m(\u001B[0m\u001B[0mother\u001B[0m\u001B[0;34m)\u001B[0m\u001B[0;34m\u001B[0m\u001B[0;34m\u001B[0m\u001B[0m\n\u001B[0m\u001B[1;32m    542\u001B[0m \u001B[0;34m\u001B[0m\u001B[0m\n\u001B[1;32m    543\u001B[0m         \u001B[0;31m# If it's a list or whatever, treat it like a matrix\u001B[0m\u001B[0;34m\u001B[0m\u001B[0;34m\u001B[0m\u001B[0;34m\u001B[0m\u001B[0m\n",
      "\u001B[0;32m~/opt/anaconda3/envs/RecSysFramework/lib/python3.8/site-packages/scipy/sparse/_compressed.py\u001B[0m in \u001B[0;36m_mul_sparse_matrix\u001B[0;34m(self, other)\u001B[0m\n\u001B[1;32m    531\u001B[0m \u001B[0;34m\u001B[0m\u001B[0m\n\u001B[1;32m    532\u001B[0m         \u001B[0mfn\u001B[0m \u001B[0;34m=\u001B[0m \u001B[0mgetattr\u001B[0m\u001B[0;34m(\u001B[0m\u001B[0m_sparsetools\u001B[0m\u001B[0;34m,\u001B[0m \u001B[0mself\u001B[0m\u001B[0;34m.\u001B[0m\u001B[0mformat\u001B[0m \u001B[0;34m+\u001B[0m \u001B[0;34m'_matmat'\u001B[0m\u001B[0;34m)\u001B[0m\u001B[0;34m\u001B[0m\u001B[0;34m\u001B[0m\u001B[0m\n\u001B[0;32m--> 533\u001B[0;31m         fn(M, N, np.asarray(self.indptr, dtype=idx_dtype),\n\u001B[0m\u001B[1;32m    534\u001B[0m            \u001B[0mnp\u001B[0m\u001B[0;34m.\u001B[0m\u001B[0masarray\u001B[0m\u001B[0;34m(\u001B[0m\u001B[0mself\u001B[0m\u001B[0;34m.\u001B[0m\u001B[0mindices\u001B[0m\u001B[0;34m,\u001B[0m \u001B[0mdtype\u001B[0m\u001B[0;34m=\u001B[0m\u001B[0midx_dtype\u001B[0m\u001B[0;34m)\u001B[0m\u001B[0;34m,\u001B[0m\u001B[0;34m\u001B[0m\u001B[0;34m\u001B[0m\u001B[0m\n\u001B[1;32m    535\u001B[0m            \u001B[0mself\u001B[0m\u001B[0;34m.\u001B[0m\u001B[0mdata\u001B[0m\u001B[0;34m,\u001B[0m\u001B[0;34m\u001B[0m\u001B[0;34m\u001B[0m\u001B[0m\n",
      "\u001B[0;31mKeyboardInterrupt\u001B[0m: "
     ]
    }
   ],
   "source": [
    "#1\n",
    "# BEST MODEL UNTIL NOW _ PROVA\n",
    "from Recommenders.Hybrid.ItemUserHybridKNNRecommender import ItemUserHybridKNNRecommender\n",
    "\n",
    "recommender_ItemKNNCFCBF = ItemUserHybridKNNRecommender(URM_train2)\n",
    "recommender_ItemKNNCFCBF.fit()\n",
    "\n",
    "result_df, _ = evaluator_validation.evaluateRecommender(recommender_ItemKNNCFCBF)\n",
    "result_df"
   ],
   "metadata": {
    "collapsed": false,
    "pycharm": {
     "name": "#%%\n"
    }
   }
  },
  {
   "cell_type": "code",
   "execution_count": null,
   "outputs": [],
   "source": [
    "#1\n",
    "# BEST MODEL UNTIL NOW - CONTROPROVA\n",
    "from Recommenders.Hybrid.ItemUserHybridKNNRecommender import ItemUserHybridKNNRecommender\n",
    "\n",
    "recommender_ItemKNNCFCBF = ItemUserHybridKNNRecommender(URM_train)\n",
    "recommender_ItemKNNCFCBF.fit()\n",
    "\n",
    "result_df, _ = evaluator_validation.evaluateRecommender(recommender_ItemKNNCFCBF)\n",
    "result_df"
   ],
   "metadata": {
    "collapsed": false,
    "pycharm": {
     "name": "#%%\n"
    }
   }
  },
  {
   "cell_type": "code",
   "execution_count": null,
   "outputs": [],
   "source": [],
   "metadata": {
    "collapsed": false,
    "pycharm": {
     "name": "#%%\n"
    }
   }
  },
  {
   "cell_type": "code",
   "execution_count": null,
   "outputs": [],
   "source": [
    "#1\n",
    "# BEST MODEL UNTIL NOW _ PROVA\n",
    "from Recommenders.Hybrid.ItemUserHybridKNNRecommender import ItemUserHybridKNNRecommender\n",
    "\n",
    "recommender_ItemKNNCFCBF = ItemUserHybridKNNRecommender(URM_train2)\n",
    "recommender_ItemKNNCFCBF.fit()\n",
    "\n",
    "result_df, _ = evaluator_validation2.evaluateRecommender(recommender_ItemKNNCFCBF)\n",
    "result_df"
   ],
   "metadata": {
    "collapsed": false,
    "pycharm": {
     "name": "#%%\n"
    }
   }
  },
  {
   "cell_type": "code",
   "execution_count": null,
   "outputs": [],
   "source": [],
   "metadata": {
    "collapsed": false,
    "pycharm": {
     "name": "#%%\n"
    }
   }
  }
 ],
 "metadata": {
  "kernelspec": {
   "display_name": "Python 3",
   "language": "python",
   "name": "python3"
  },
  "language_info": {
   "codemirror_mode": {
    "name": "ipython",
    "version": 2
   },
   "file_extension": ".py",
   "mimetype": "text/x-python",
   "name": "python",
   "nbconvert_exporter": "python",
   "pygments_lexer": "ipython2",
   "version": "2.7.6"
  }
 },
 "nbformat": 4,
 "nbformat_minor": 0
}