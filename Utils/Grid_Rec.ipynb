{
 "cells": [
  {
   "cell_type": "code",
   "execution_count": null,
   "metadata": {
    "collapsed": true
   },
   "outputs": [],
   "source": [
    "from Recommenders.ScoresHybridRecommender import ScoresHybridRecommender\n",
    "from Recommenders.MatrixFactorization.IALSRecommender import IALSRecommender\n",
    "from Utils.Evaluator import EvaluatorHoldout\n",
    "from Data_manager.split_functions.split_train_validation_random_holdout import \\\n",
    "    split_train_in_two_percentage_global_sample\n",
    "from Utils import Reader\n",
    "from Recommenders.GraphBased.P3alphaRecommender import P3alphaRecommender\n",
    "from Recommenders.MatrixFactorization.PureSVDRecommender import PureSVDRecommender\n",
    "from Recommenders.GraphBased.RP3betaRecommender import RP3betaRecommender\n",
    "#ALL TRIES\n",
    "import numpy\n",
    "import itertools\n",
    "from tqdm.notebook import tqdm\n",
    "# GRID SEARCH RP3BETA\n",
    "\n",
    "URM_all=Reader.read_train_csr(values_to_replace={0:0.03})\n",
    "#URM_all=Reader.load_URM(\"../output/URM_2_mean.csv\")\n",
    "URM_train, URM_test = split_train_in_two_percentage_global_sample(URM_all ,train_percentage=0.80)\n",
    "evaluator_test=EvaluatorHoldout(URM_test,cutoff_list=[10])\n",
    "ials=IALSRecommender(URM_train)\n",
    "ials.fit( num_factors= 77, epochs= 115, confidence_scaling= 'linear', alpha=  3.951833188581218, epsilon= 1.1320191944038327, reg= 4.746687709282205e-05)\n",
    "#recommender_ItemKNNCF = ItemKNNCFRecommender(URM_train)\n",
    "#recommender_ItemKNNCF.fit()\n",
    "rp3=RP3betaRecommender(URM_train)\n",
    "rp3.fit(\n",
    "    topK= 339, alpha= 0.0, beta= 0.3326953675715214, normalize_similarity= True\n",
    ")\n",
    "pureSVD=PureSVDRecommender(URM_train)\n",
    "pureSVD.fit(\n",
    "    num_factors= 30\n",
    ")\n",
    "\n",
    "P3alpha=P3alphaRecommender(URM_train)\n",
    "P3alpha.fit(\n",
    "    topK= 564, alpha= 0.18769516845528106, normalize_similarity= True\n",
    ")\n",
    "\n",
    "algoList=[pureSVD,P3alpha,rp3]\n",
    "\n",
    "best=0\n",
    "alpha=0\n",
    "algo=\"\"\n",
    "dList=numpy.arange(0.25, 1, 0.25)\n",
    "for x in tqdm(itertools.product(dList,algoList),total=int(len(dList)*len(algoList)), position=0, leave=True):\n",
    "\n",
    "    scoreshybridrecommender = ScoresHybridRecommender(URM_train, ials, x[1])\n",
    "    scoreshybridrecommender.fit(alpha = x[0])\n",
    "    result_df, _ = evaluator_test.evaluateRecommender(scoreshybridrecommender)\n",
    "\n",
    "\n",
    "    if result_df[\"MAP\"][10] > best:\n",
    "        best=result_df[\"MAP\"][10]\n",
    "        alpha=x[0]\n",
    "        algo=x[1]\n",
    "\n"
   ]
  }
 ],
 "metadata": {
  "kernelspec": {
   "display_name": "Python 3",
   "language": "python",
   "name": "python3"
  },
  "language_info": {
   "codemirror_mode": {
    "name": "ipython",
    "version": 2
   },
   "file_extension": ".py",
   "mimetype": "text/x-python",
   "name": "python",
   "nbconvert_exporter": "python",
   "pygments_lexer": "ipython2",
   "version": "2.7.6"
  }
 },
 "nbformat": 4,
 "nbformat_minor": 0
}